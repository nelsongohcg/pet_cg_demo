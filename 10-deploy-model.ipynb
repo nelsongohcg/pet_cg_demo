{
 "cells": [
  {
   "cell_type": "markdown",
   "metadata": {},
   "source": [
    "# Deploy model\n",
    "**Important**: Change the kernel to *PROJECT_NAME local*. You can do this from the *Kernel* menu under *Change kernel*. You cannot deploy the model using the *PROJECT_NAME docker* kernel."
   ]
  },
  {
   "cell_type": "code",
   "execution_count": null,
   "metadata": {},
   "outputs": [],
   "source": [
    "from azureml.api.schema.dataTypes import DataTypes\n",
    "from azureml.api.schema.sampleDefinition import SampleDefinition\n",
    "from azureml.api.realtime.services import generate_schema\n",
    "import pandas as pd\n",
    "import numpy as np\n",
    "import imp\n",
    "import pickle\n",
    "import os\n",
    "import sys\n",
    "import json"
   ]
  },
  {
   "cell_type": "code",
   "execution_count": null,
   "metadata": {},
   "outputs": [],
   "source": [
    "from azureml.logging import get_azureml_logger\n",
    "run_logger = get_azureml_logger()\n",
    "run_logger.log('amlrealworld.timeseries.deploy-model','true')"
   ]
  },
  {
   "cell_type": "markdown",
   "metadata": {},
   "source": [
    "Enter the name of the model to deploy."
   ]
  },
  {
   "cell_type": "code",
   "execution_count": 3,
   "metadata": {},
   "outputs": [],
   "source": [
    "model_name = \"linear_regression\""
   ]
  },
  {
   "cell_type": "markdown",
   "metadata": {},
   "source": [
    "Load the test dataset and retain just one row. This record will be used to create and input schema for the web service. It will also allow us to simulate invoking the web service with features for one hour period and generating a demand forecast for this hour."
   ]
  },
  {
   "cell_type": "code",
   "execution_count": 4,
   "metadata": {},
   "outputs": [
    {
     "data": {
      "text/html": [
       "<div>\n",
       "<style scoped>\n",
       "    .dataframe tbody tr th:only-of-type {\n",
       "        vertical-align: middle;\n",
       "    }\n",
       "\n",
       "    .dataframe tbody tr th {\n",
       "        vertical-align: top;\n",
       "    }\n",
       "\n",
       "    .dataframe thead th {\n",
       "        text-align: right;\n",
       "    }\n",
       "</style>\n",
       "<table border=\"1\" class=\"dataframe\">\n",
       "  <thead>\n",
       "    <tr style=\"text-align: right;\">\n",
       "      <th></th>\n",
       "      <th>precip</th>\n",
       "      <th>temp</th>\n",
       "      <th>hour</th>\n",
       "      <th>month</th>\n",
       "      <th>dayofweek</th>\n",
       "      <th>temp_lag1</th>\n",
       "      <th>temp_lag2</th>\n",
       "      <th>temp_lag3</th>\n",
       "      <th>temp_lag4</th>\n",
       "      <th>temp_lag5</th>\n",
       "      <th>temp_lag6</th>\n",
       "      <th>demand_lag1</th>\n",
       "      <th>demand_lag2</th>\n",
       "      <th>demand_lag3</th>\n",
       "      <th>demand_lag4</th>\n",
       "      <th>demand_lag5</th>\n",
       "      <th>demand_lag6</th>\n",
       "    </tr>\n",
       "  </thead>\n",
       "  <tbody>\n",
       "    <tr>\n",
       "      <th>0</th>\n",
       "      <td>0.0</td>\n",
       "      <td>74.63</td>\n",
       "      <td>0</td>\n",
       "      <td>6</td>\n",
       "      <td>4</td>\n",
       "      <td>75.1</td>\n",
       "      <td>75.72</td>\n",
       "      <td>76.72</td>\n",
       "      <td>75.85</td>\n",
       "      <td>77.36</td>\n",
       "      <td>80.92</td>\n",
       "      <td>6912.7</td>\n",
       "      <td>7332.625</td>\n",
       "      <td>7576.558</td>\n",
       "      <td>7603.008</td>\n",
       "      <td>7788.292</td>\n",
       "      <td>8102.142</td>\n",
       "    </tr>\n",
       "  </tbody>\n",
       "</table>\n",
       "</div>"
      ],
      "text/plain": [
       "   precip   temp  hour  month  dayofweek  temp_lag1  temp_lag2  temp_lag3  \\\n",
       "0     0.0  74.63     0      6          4       75.1      75.72      76.72   \n",
       "\n",
       "   temp_lag4  temp_lag5  temp_lag6  demand_lag1  demand_lag2  demand_lag3  \\\n",
       "0      75.85      77.36      80.92       6912.7     7332.625     7576.558   \n",
       "\n",
       "   demand_lag4  demand_lag5  demand_lag6  \n",
       "0     7603.008     7788.292     8102.142  "
      ]
     },
     "execution_count": 4,
     "metadata": {},
     "output_type": "execute_result"
    }
   ],
   "source": [
    "aml_dir = os.environ['AZUREML_NATIVE_SHARE_DIRECTORY']\n",
    "test_df = pd.read_csv(os.path.join(aml_dir, 'nyc_demand_test.csv'), parse_dates=['timeStamp'])\n",
    "test_df = test_df.drop(['demand', 'timeStamp'], axis=1).copy().iloc[[0]]\n",
    "test_df"
   ]
  },
  {
   "cell_type": "markdown",
   "metadata": {},
   "source": [
    "Load model from disk and transfer it to the working directory. "
   ]
  },
  {
   "cell_type": "code",
   "execution_count": 5,
   "metadata": {},
   "outputs": [],
   "source": [
    "with open(os.path.join(aml_dir, model_name + '.pkl'), 'rb') as f:\n",
    "    mod = pickle.load(f)\n",
    "\n",
    "with open('model_deploy.pkl', 'wb') as f:\n",
    "    pickle.dump(mod, f)"
   ]
  },
  {
   "cell_type": "markdown",
   "metadata": {},
   "source": [
    "Check model object has loaded as expected."
   ]
  },
  {
   "cell_type": "code",
   "execution_count": 6,
   "metadata": {},
   "outputs": [
    {
     "data": {
      "text/plain": [
       "Pipeline(steps=[('onehot', OneHotEncoder(categorical_features=[2, 3, 4], dtype=<class 'numpy.float64'>,\n",
       "       handle_unknown='error', n_values='auto', sparse=False)), ('rfecv', RFECV(cv=TimeSeriesSplit(n_splits=3),\n",
       "   estimator=LinearRegression(copy_X=True, fit_intercept=True, n_jobs=1, normalize=False),\n",
       "   n_jobs=-1, scoring='neg_mean_squared_error', step=1, verbose=2))])"
      ]
     },
     "execution_count": 6,
     "metadata": {},
     "output_type": "execute_result"
    }
   ],
   "source": [
    "mod"
   ]
  },
  {
   "cell_type": "markdown",
   "metadata": {},
   "source": [
    "Apply model to predict test record"
   ]
  },
  {
   "cell_type": "code",
   "execution_count": 7,
   "metadata": {},
   "outputs": [
    {
     "data": {
      "text/plain": [
       "6501.258774578936"
      ]
     },
     "execution_count": 7,
     "metadata": {},
     "output_type": "execute_result"
    }
   ],
   "source": [
    "np.asscalar(mod.predict(test_df))"
   ]
  },
  {
   "cell_type": "markdown",
   "metadata": {},
   "source": [
    "### Author a realtime web service"
   ]
  },
  {
   "cell_type": "markdown",
   "metadata": {},
   "source": [
    "Create a score.py script which implements the scoring function to run inside the web service. Change model_name variable as required."
   ]
  },
  {
   "cell_type": "code",
   "execution_count": 8,
   "metadata": {},
   "outputs": [
    {
     "name": "stdout",
     "output_type": "stream",
     "text": [
      "Writing score.py\n"
     ]
    }
   ],
   "source": [
    "%%writefile score.py\n",
    "# The init and run functions will load and score the input using the saved model.\n",
    "# The score.py file will be included in the web service deployment package.\n",
    "def init():\n",
    "    import pickle\n",
    "    import os\n",
    "    global model\n",
    "    \n",
    "    with open('model_deploy.pkl', 'rb') as f:\n",
    "        model = pickle.load(f)\n",
    "    \n",
    "def run(input_df):\n",
    "    input_df = input_df[['precip', 'temp', 'hour', 'month', 'dayofweek',\n",
    "        'temp_lag1', 'temp_lag2', 'temp_lag3', 'temp_lag4', 'temp_lag5',\n",
    "        'temp_lag6', 'demand_lag1', 'demand_lag2', 'demand_lag3',\n",
    "        'demand_lag4', 'demand_lag5', 'demand_lag6']]\n",
    "    try:\n",
    "        if (input_df.shape != (1,17)):\n",
    "            return 'Bad imput: Expecting dataframe of shape (1,17)'\n",
    "        else:\n",
    "            pred = model.predict(input_df)\n",
    "            return int(pred)\n",
    "    except Exception as e:\n",
    "        return(str(e))"
   ]
  },
  {
   "cell_type": "markdown",
   "metadata": {},
   "source": [
    "This script will be written to your current working directory:"
   ]
  },
  {
   "cell_type": "code",
   "execution_count": null,
   "metadata": {},
   "outputs": [],
   "source": [
    "os.getcwd()"
   ]
  },
  {
   "cell_type": "markdown",
   "metadata": {},
   "source": [
    "#### Test the *init* and *run* functions"
   ]
  },
  {
   "cell_type": "code",
   "execution_count": null,
   "metadata": {},
   "outputs": [],
   "source": [
    "import score\n",
    "imp.reload(score)"
   ]
  },
  {
   "cell_type": "code",
   "execution_count": 11,
   "metadata": {},
   "outputs": [
    {
     "data": {
      "text/plain": [
       "6501"
      ]
     },
     "execution_count": 11,
     "metadata": {},
     "output_type": "execute_result"
    }
   ],
   "source": [
    "score.init()\n",
    "score.run(test_df)"
   ]
  },
  {
   "cell_type": "markdown",
   "metadata": {},
   "source": [
    "#### Create web service schema\n",
    "The web service schema provides details on the required structure of the input data as well as the data types of each column."
   ]
  },
  {
   "cell_type": "code",
   "execution_count": 12,
   "metadata": {
    "scrolled": true
   },
   "outputs": [
    {
     "data": {
      "text/plain": [
       "{'input': {'input_df': {'internal': 'gANjYXp1cmVtbC5hcGkuc2NoZW1hLnBhbmRhc1V0aWwKUGFuZGFzU2NoZW1hCnEAKYFxAX1xAihYBQAAAHNoYXBlcQNLAUsRhnEEWAwAAABjb2x1bW5fbmFtZXNxBV1xBihYBgAAAHByZWNpcHEHWAQAAAB0ZW1wcQhYBAAAAGhvdXJxCVgFAAAAbW9udGhxClgJAAAAZGF5b2Z3ZWVrcQtYCQAAAHRlbXBfbGFnMXEMWAkAAAB0ZW1wX2xhZzJxDVgJAAAAdGVtcF9sYWczcQ5YCQAAAHRlbXBfbGFnNHEPWAkAAAB0ZW1wX2xhZzVxEFgJAAAAdGVtcF9sYWc2cRFYCwAAAGRlbWFuZF9sYWcxcRJYCwAAAGRlbWFuZF9sYWcycRNYCwAAAGRlbWFuZF9sYWczcRRYCwAAAGRlbWFuZF9sYWc0cRVYCwAAAGRlbWFuZF9sYWc1cRZYCwAAAGRlbWFuZF9sYWc2cRdlWAwAAABjb2x1bW5fdHlwZXNxGF1xGShjbnVtcHkKZHR5cGUKcRpYAgAAAGY4cRtLAEsBh3EcUnEdKEsDWAEAAAA8cR5OTk5K/////0r/////SwB0cR9iaB1oGlgCAAAAaThxIEsASwGHcSFScSIoSwNoHk5OTkr/////Sv////9LAHRxI2JoImgiaB1oHWgdaB1oHWgdaB1oHWgdaB1oHWgdZVgKAAAAc2NoZW1hX21hcHEkfXElKGgRaB1oCmgiaAtoImgXaB1oCWgiaA9oHWgMaB1oFmgdaA5oHWgSaB1oDWgdaAdoHWgVaB1oE2gdaAhoHWgUaB1oEGgddXViLg==',\n",
       "   'swagger': {'example': [{'dayofweek': 4,\n",
       "      'demand_lag1': 6912.7,\n",
       "      'demand_lag2': 7332.625,\n",
       "      'demand_lag3': 7576.558,\n",
       "      'demand_lag4': 7603.008,\n",
       "      'demand_lag5': 7788.292,\n",
       "      'demand_lag6': 8102.142,\n",
       "      'hour': 0,\n",
       "      'month': 6,\n",
       "      'precip': 0.0,\n",
       "      'temp': 74.63,\n",
       "      'temp_lag1': 75.1,\n",
       "      'temp_lag2': 75.72,\n",
       "      'temp_lag3': 76.72,\n",
       "      'temp_lag4': 75.85,\n",
       "      'temp_lag5': 77.36,\n",
       "      'temp_lag6': 80.92}],\n",
       "    'items': {'properties': {'dayofweek': {'format': 'int64',\n",
       "       'type': 'integer'},\n",
       "      'demand_lag1': {'format': 'double', 'type': 'number'},\n",
       "      'demand_lag2': {'format': 'double', 'type': 'number'},\n",
       "      'demand_lag3': {'format': 'double', 'type': 'number'},\n",
       "      'demand_lag4': {'format': 'double', 'type': 'number'},\n",
       "      'demand_lag5': {'format': 'double', 'type': 'number'},\n",
       "      'demand_lag6': {'format': 'double', 'type': 'number'},\n",
       "      'hour': {'format': 'int64', 'type': 'integer'},\n",
       "      'month': {'format': 'int64', 'type': 'integer'},\n",
       "      'precip': {'format': 'double', 'type': 'number'},\n",
       "      'temp': {'format': 'double', 'type': 'number'},\n",
       "      'temp_lag1': {'format': 'double', 'type': 'number'},\n",
       "      'temp_lag2': {'format': 'double', 'type': 'number'},\n",
       "      'temp_lag3': {'format': 'double', 'type': 'number'},\n",
       "      'temp_lag4': {'format': 'double', 'type': 'number'},\n",
       "      'temp_lag5': {'format': 'double', 'type': 'number'},\n",
       "      'temp_lag6': {'format': 'double', 'type': 'number'}},\n",
       "     'type': 'object'},\n",
       "    'type': 'array'},\n",
       "   'type': 3}}}"
      ]
     },
     "execution_count": 12,
     "metadata": {},
     "output_type": "execute_result"
    }
   ],
   "source": [
    "inputs = {\"input_df\": SampleDefinition(DataTypes.PANDAS, test_df)}\n",
    "generate_schema(run_func=score.run, inputs=inputs, filepath='service_schema.json')"
   ]
  },
  {
   "cell_type": "markdown",
   "metadata": {},
   "source": [
    "#### Deploy the web service\n",
    "The command below deploys a web service names \"demandforecast\", with input schema defined by \"service_schema.json\". The web service runs \"score.py\" which scores the input data using the model \"model_deploy.pkl\". This may take a few minutes."
   ]
  },
  {
   "cell_type": "code",
   "execution_count": null,
   "metadata": {},
   "outputs": [],
   "source": [
    "!az ml service create realtime -f score.py -m model_deploy.pkl -s service_schema.json -n demandforecast -r python"
   ]
  },
  {
   "cell_type": "markdown",
   "metadata": {},
   "source": [
    "Check web service is running."
   ]
  },
  {
   "cell_type": "code",
   "execution_count": null,
   "metadata": {},
   "outputs": [],
   "source": [
    "!az ml service show realtime -i demandforecast"
   ]
  },
  {
   "cell_type": "markdown",
   "metadata": {},
   "source": [
    "Test the web service is working by invoking it with a test record."
   ]
  },
  {
   "cell_type": "code",
   "execution_count": null,
   "metadata": {},
   "outputs": [],
   "source": [
    "!az ml service run realtime -i demandforecast -d \"{\\\"input_df\\\": [{\\\"hour\\\": 0, \\\"month\\\": 6, \\\"demand_lag3\\\": 7576.558, \\\"temp_lag5\\\": 77.36, \\\"temp\\\": 74.63, \\\"demand_lag1\\\": 6912.7, \\\"demand_lag5\\\": 7788.292, \\\"temp_lag6\\\": 80.92, \\\"temp_lag3\\\": 76.72, \\\"demand_lag6\\\": 8102.142, \\\"temp_lag4\\\": 75.85, \\\"precip\\\": 0.0, \\\"temp_lag2\\\": 75.72, \\\"demand_lag2\\\": 7332.625, \\\"temp_lag1\\\": 75.1, \\\"demand_lag4\\\": 7603.008, \\\"dayofweek\\\": 4}]}\""
   ]
  },
  {
   "cell_type": "markdown",
   "metadata": {},
   "source": [
    "#### Delete the web service"
   ]
  },
  {
   "cell_type": "code",
   "execution_count": null,
   "metadata": {},
   "outputs": [],
   "source": [
    "!az ml service delete realtime --id=demandforecast"
   ]
  }
 ],
 "metadata": {
  "kernelspec": {
   "display_name": "TimeSeriesForecastingTutorial local",
   "language": "python",
   "name": "timeseriesforecastingtutorial_local"
  },
  "language_info": {
   "codemirror_mode": {
    "name": "ipython",
    "version": 3
   },
   "file_extension": ".py",
   "mimetype": "text/x-python",
   "name": "python",
   "nbconvert_exporter": "python",
   "pygments_lexer": "ipython3",
   "version": "3.5.2"
  }
 },
 "nbformat": 4,
 "nbformat_minor": 2
}
