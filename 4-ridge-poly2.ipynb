{
 "cells": [
  {
   "cell_type": "markdown",
   "metadata": {},
   "source": [
    "# Ridge regression with polynomial features of degree 2\n",
    "**Important**: Change the kernel to *PROJECT_NAME local*. You can do this from the *Kernel* menu under *Change kernel*."
   ]
  },
  {
   "cell_type": "code",
   "execution_count": 1,
   "metadata": {},
   "outputs": [],
   "source": [
    "%matplotlib inline\n",
    "import pandas as pd\n",
    "import numpy as np\n",
    "import matplotlib\n",
    "matplotlib.use('Agg')\n",
    "import matplotlib.pyplot as plt\n",
    "from sklearn.pipeline import Pipeline\n",
    "from sklearn.preprocessing import OneHotEncoder\n",
    "from sklearn.linear_model import Ridge\n",
    "from sklearn.metrics import mean_squared_error\n",
    "from sklearn.model_selection import TimeSeriesSplit\n",
    "from sklearn.model_selection import RandomizedSearchCV\n",
    "from sklearn.preprocessing import PolynomialFeatures\n",
    "import pickle\n",
    "import os\n",
    "import scipy.stats as st\n",
    "from azure.storage.blob import BlockBlobService"
   ]
  },
  {
   "cell_type": "code",
   "execution_count": 2,
   "metadata": {},
   "outputs": [
    {
     "data": {
      "text/plain": [
       "<azureml.logging.script_run_request.ScriptRunRequest at 0x270b882d320>"
      ]
     },
     "execution_count": 2,
     "metadata": {},
     "output_type": "execute_result"
    }
   ],
   "source": [
    "from azureml.logging import get_azureml_logger\n",
    "run_logger = get_azureml_logger()\n",
    "run_logger.log('amlrealworld.timeseries.ridge-poly','true')"
   ]
  },
  {
   "cell_type": "code",
   "execution_count": 3,
   "metadata": {},
   "outputs": [],
   "source": [
    "model_name = \"ridge_poly2\"\n",
    "aml_dir = os.environ['AZUREML_NATIVE_SHARE_DIRECTORY']\n",
    "ACCOUNT_NAME = \"petcgexperimentstorage\"\n",
    "ACCOUNT_KEY = \"C+ffy45PBcicHAxWiRbW9MnFR651A8xbiVe2wkyZgolznhFf70caTZmpWIJb2spV5YFl/LQB0ARUfU+AQx6w9g==\"\n",
    "CONTAINER_NAME = \"energy-demand-demo\"\n",
    "block_blob_service = BlockBlobService(account_name=ACCOUNT_NAME, account_key=ACCOUNT_KEY)\n",
    "train = None\n",
    "list_of_blobs = block_blob_service.list_blobs(CONTAINER_NAME)\n",
    "for each_blob in list_of_blobs:\n",
    "    if (\"part-00\" in each_blob.name):\n",
    "        block_blob_service.get_blob_to_path(CONTAINER_NAME, blob_name=each_blob.name, file_path='./nyc_demand.csv')\n",
    "        train = pd.read_csv('./nyc_demand.csv')\n",
    "        break"
   ]
  },
  {
   "cell_type": "markdown",
   "metadata": {},
   "source": [
    "Create model pipeline:\n",
    "- one-hot encode categorical features.\n",
    "- create polynomial features of degree 2. This means that for each pair of features $(x_1, x_2)$, the output features are $(x_1, x_2, x_1^2, x_1x_2, x_2^2)$\n",
    "- randomized parameter search with cross validation to find optimal values for the alpha parameter\n",
    "\n",
    "Note - to limit the training time, the number of iterations for the randomized search has been set to 20. This should train in about 3 minutes. increasing the number of iterations will increase the likelihood of finding the optimum solution but also increase training times. "
   ]
  },
  {
   "cell_type": "code",
   "execution_count": 4,
   "metadata": {},
   "outputs": [],
   "source": [
    "X = train.drop(['demand', 'timeStamp'], axis=1)"
   ]
  },
  {
   "cell_type": "code",
   "execution_count": 5,
   "metadata": {},
   "outputs": [],
   "source": [
    "cat_cols = ['hour', 'month', 'dayofweek']\n",
    "cat_cols_idx = [X.columns.get_loc(c) for c in X.columns if c in cat_cols]\n",
    "onehot = OneHotEncoder(categorical_features=cat_cols_idx, sparse=False)\n",
    "regr = Ridge(fit_intercept=False)\n",
    "poly = PolynomialFeatures(2)\n",
    "tscv = TimeSeriesSplit(n_splits=3)"
   ]
  },
  {
   "cell_type": "code",
   "execution_count": 6,
   "metadata": {},
   "outputs": [
    {
     "name": "stdout",
     "output_type": "stream",
     "text": [
      "Fitting 3 folds for each of 20 candidates, totalling 60 fits\n",
      "[CV] alpha=1.68552764523 .............................................\n",
      "[CV] .............................. alpha=1.68552764523, total=   1.9s\n",
      "[CV] alpha=1.68552764523 .............................................\n"
     ]
    },
    {
     "name": "stderr",
     "output_type": "stream",
     "text": [
      "[Parallel(n_jobs=1)]: Done   1 out of   1 | elapsed:    1.9s remaining:    0.0s\n"
     ]
    },
    {
     "name": "stdout",
     "output_type": "stream",
     "text": [
      "[CV] .............................. alpha=1.68552764523, total=   2.0s\n",
      "[CV] alpha=1.68552764523 .............................................\n",
      "[CV] .............................. alpha=1.68552764523, total=   2.7s\n",
      "[CV] alpha=1.42155109289 .............................................\n",
      "[CV] .............................. alpha=1.42155109289, total=   1.0s\n",
      "[CV] alpha=1.42155109289 .............................................\n",
      "[CV] .............................. alpha=1.42155109289, total=   1.9s\n",
      "[CV] alpha=1.42155109289 .............................................\n",
      "[CV] .............................. alpha=1.42155109289, total=   3.0s\n",
      "[CV] alpha=2.41877311376 .............................................\n",
      "[CV] .............................. alpha=2.41877311376, total=   1.1s\n",
      "[CV] alpha=2.41877311376 .............................................\n",
      "[CV] .............................. alpha=2.41877311376, total=   2.8s\n",
      "[CV] alpha=2.41877311376 .............................................\n",
      "[CV] .............................. alpha=2.41877311376, total=   5.3s\n",
      "[CV] alpha=0.309073621557 ............................................\n",
      "[CV] ............................. alpha=0.309073621557, total=   1.4s\n",
      "[CV] alpha=0.309073621557 ............................................\n",
      "[CV] ............................. alpha=0.309073621557, total=   2.8s\n",
      "[CV] alpha=0.309073621557 ............................................\n",
      "[CV] ............................. alpha=0.309073621557, total=   3.5s\n",
      "[CV] alpha=1.3409654512 ..............................................\n",
      "[CV] ............................... alpha=1.3409654512, total=   1.1s\n",
      "[CV] alpha=1.3409654512 ..............................................\n",
      "[CV] ............................... alpha=1.3409654512, total=   2.0s\n",
      "[CV] alpha=1.3409654512 ..............................................\n",
      "[CV] ............................... alpha=1.3409654512, total=   2.6s\n",
      "[CV] alpha=2.67900897585 .............................................\n",
      "[CV] .............................. alpha=2.67900897585, total=   0.9s\n",
      "[CV] alpha=2.67900897585 .............................................\n",
      "[CV] .............................. alpha=2.67900897585, total=   1.7s\n",
      "[CV] alpha=2.67900897585 .............................................\n",
      "[CV] .............................. alpha=2.67900897585, total=   2.4s\n",
      "[CV] alpha=1.23963120409 .............................................\n",
      "[CV] .............................. alpha=1.23963120409, total=   0.9s\n",
      "[CV] alpha=1.23963120409 .............................................\n",
      "[CV] .............................. alpha=1.23963120409, total=   1.8s\n",
      "[CV] alpha=1.23963120409 .............................................\n",
      "[CV] .............................. alpha=1.23963120409, total=   2.8s\n",
      "[CV] alpha=4.20611882856 .............................................\n",
      "[CV] .............................. alpha=4.20611882856, total=   0.9s\n",
      "[CV] alpha=4.20611882856 .............................................\n",
      "[CV] .............................. alpha=4.20611882856, total=   1.8s\n",
      "[CV] alpha=4.20611882856 .............................................\n",
      "[CV] .............................. alpha=4.20611882856, total=   2.4s\n",
      "[CV] alpha=2.63003504802 .............................................\n",
      "[CV] .............................. alpha=2.63003504802, total=   0.9s\n",
      "[CV] alpha=2.63003504802 .............................................\n",
      "[CV] .............................. alpha=2.63003504802, total=   1.7s\n",
      "[CV] alpha=2.63003504802 .............................................\n",
      "[CV] .............................. alpha=2.63003504802, total=   2.5s\n",
      "[CV] alpha=0.823704336466 ............................................\n",
      "[CV] ............................. alpha=0.823704336466, total=   0.9s\n",
      "[CV] alpha=0.823704336466 ............................................\n",
      "[CV] ............................. alpha=0.823704336466, total=   1.6s\n",
      "[CV] alpha=0.823704336466 ............................................\n",
      "[CV] ............................. alpha=0.823704336466, total=   2.5s\n",
      "[CV] alpha=4.39115415545 .............................................\n",
      "[CV] .............................. alpha=4.39115415545, total=   0.9s\n",
      "[CV] alpha=4.39115415545 .............................................\n",
      "[CV] .............................. alpha=4.39115415545, total=   1.7s\n",
      "[CV] alpha=4.39115415545 .............................................\n",
      "[CV] .............................. alpha=4.39115415545, total=   3.5s\n",
      "[CV] alpha=1.13358733672 .............................................\n",
      "[CV] .............................. alpha=1.13358733672, total=   0.9s\n",
      "[CV] alpha=1.13358733672 .............................................\n",
      "[CV] .............................. alpha=1.13358733672, total=   1.7s\n",
      "[CV] alpha=1.13358733672 .............................................\n",
      "[CV] .............................. alpha=1.13358733672, total=   2.7s\n",
      "[CV] alpha=4.91163343696 .............................................\n",
      "[CV] .............................. alpha=4.91163343696, total=   1.0s\n",
      "[CV] alpha=4.91163343696 .............................................\n",
      "[CV] .............................. alpha=4.91163343696, total=   2.0s\n",
      "[CV] alpha=4.91163343696 .............................................\n",
      "[CV] .............................. alpha=4.91163343696, total=   3.1s\n",
      "[CV] alpha=1.38816358091 .............................................\n",
      "[CV] .............................. alpha=1.38816358091, total=   1.0s\n",
      "[CV] alpha=1.38816358091 .............................................\n",
      "[CV] .............................. alpha=1.38816358091, total=   1.8s\n",
      "[CV] alpha=1.38816358091 .............................................\n",
      "[CV] .............................. alpha=1.38816358091, total=   3.1s\n",
      "[CV] alpha=2.8497393662 ..............................................\n",
      "[CV] ............................... alpha=2.8497393662, total=   1.0s\n",
      "[CV] alpha=2.8497393662 ..............................................\n",
      "[CV] ............................... alpha=2.8497393662, total=   1.7s\n",
      "[CV] alpha=2.8497393662 ..............................................\n",
      "[CV] ............................... alpha=2.8497393662, total=   2.9s\n",
      "[CV] alpha=0.554485965298 ............................................\n",
      "[CV] ............................. alpha=0.554485965298, total=   0.9s\n",
      "[CV] alpha=0.554485965298 ............................................\n",
      "[CV] ............................. alpha=0.554485965298, total=   1.6s\n",
      "[CV] alpha=0.554485965298 ............................................\n",
      "[CV] ............................. alpha=0.554485965298, total=   2.3s\n",
      "[CV] alpha=0.779975105897 ............................................\n",
      "[CV] ............................. alpha=0.779975105897, total=   0.9s\n",
      "[CV] alpha=0.779975105897 ............................................\n",
      "[CV] ............................. alpha=0.779975105897, total=   1.6s\n",
      "[CV] alpha=0.779975105897 ............................................\n",
      "[CV] ............................. alpha=0.779975105897, total=   2.4s\n",
      "[CV] alpha=0.359696775562 ............................................\n",
      "[CV] ............................. alpha=0.359696775562, total=   0.9s\n",
      "[CV] alpha=0.359696775562 ............................................\n",
      "[CV] ............................. alpha=0.359696775562, total=   1.6s\n",
      "[CV] alpha=0.359696775562 ............................................\n",
      "[CV] ............................. alpha=0.359696775562, total=   2.7s\n",
      "[CV] alpha=2.84535844571 .............................................\n",
      "[CV] .............................. alpha=2.84535844571, total=   0.9s\n",
      "[CV] alpha=2.84535844571 .............................................\n",
      "[CV] .............................. alpha=2.84535844571, total=   1.7s\n",
      "[CV] alpha=2.84535844571 .............................................\n",
      "[CV] .............................. alpha=2.84535844571, total=   2.7s\n",
      "[CV] alpha=4.18060156304 .............................................\n",
      "[CV] .............................. alpha=4.18060156304, total=   1.2s\n",
      "[CV] alpha=4.18060156304 .............................................\n",
      "[CV] .............................. alpha=4.18060156304, total=   2.0s\n",
      "[CV] alpha=4.18060156304 .............................................\n"
     ]
    },
    {
     "name": "stdout",
     "output_type": "stream",
     "text": [
      "[CV] .............................. alpha=4.18060156304, total=   2.8s\n"
     ]
    },
    {
     "name": "stderr",
     "output_type": "stream",
     "text": [
      "[Parallel(n_jobs=1)]: Done  60 out of  60 | elapsed:  2.2min finished\n"
     ]
    },
    {
     "data": {
      "text/plain": [
       "Pipeline(steps=[('onehot', OneHotEncoder(categorical_features=[2, 3, 4], dtype=<class 'numpy.float64'>,\n",
       "       handle_unknown='error', n_values='auto', sparse=False)), ('poly', PolynomialFeatures(degree=2, include_bias=True, interaction_only=False)), ('regr_cv', RandomizedSearchCV(cv=TimeSeriesSplit(n_splits...it=True,\n",
       "          return_train_score=True, scoring='neg_mean_squared_error',\n",
       "          verbose=2))])"
      ]
     },
     "execution_count": 6,
     "metadata": {},
     "output_type": "execute_result"
    }
   ],
   "source": [
    "param_dist = {'alpha': st.uniform(1e-4, 5.0)}\n",
    "regr_cv = RandomizedSearchCV(estimator=regr,\n",
    "                            param_distributions=param_dist,\n",
    "                            n_iter=20,\n",
    "                            scoring='neg_mean_squared_error',\n",
    "                            iid=False,\n",
    "                            cv=tscv,\n",
    "                            verbose=2,\n",
    "                            n_jobs=1)\n",
    "regr_pipe = Pipeline([('onehot', onehot), ('poly', poly), ('regr_cv', regr_cv)])\n",
    "regr_pipe.fit(X, y=train['demand'])"
   ]
  },
  {
   "cell_type": "code",
   "execution_count": 7,
   "metadata": {},
   "outputs": [],
   "source": [
    "model_dir = \"C:/Users/nelgoh/Desktop/Resources/Petronas/energy_demand_forecast/EnergyDemandForecast/outputs/models/\"\n",
    "with open(os.path.join(model_dir, model_name + '.pkl'), 'wb') as f:\n",
    "    pickle.dump(regr_pipe, f)"
   ]
  },
  {
   "cell_type": "markdown",
   "metadata": {},
   "source": [
    "Cross validation results"
   ]
  },
  {
   "cell_type": "code",
   "execution_count": 8,
   "metadata": {},
   "outputs": [
    {
     "data": {
      "text/html": [
       "<div>\n",
       "<style scoped>\n",
       "    .dataframe tbody tr th:only-of-type {\n",
       "        vertical-align: middle;\n",
       "    }\n",
       "\n",
       "    .dataframe tbody tr th {\n",
       "        vertical-align: top;\n",
       "    }\n",
       "\n",
       "    .dataframe thead th {\n",
       "        text-align: right;\n",
       "    }\n",
       "</style>\n",
       "<table border=\"1\" class=\"dataframe\">\n",
       "  <thead>\n",
       "    <tr style=\"text-align: right;\">\n",
       "      <th></th>\n",
       "      <th>mean_fit_time</th>\n",
       "      <th>mean_score_time</th>\n",
       "      <th>mean_test_score</th>\n",
       "      <th>mean_train_score</th>\n",
       "      <th>param_alpha</th>\n",
       "      <th>params</th>\n",
       "      <th>rank_test_score</th>\n",
       "      <th>split0_test_score</th>\n",
       "      <th>split0_train_score</th>\n",
       "      <th>split1_test_score</th>\n",
       "      <th>split1_train_score</th>\n",
       "      <th>split2_test_score</th>\n",
       "      <th>split2_train_score</th>\n",
       "      <th>std_fit_time</th>\n",
       "      <th>std_score_time</th>\n",
       "      <th>std_test_score</th>\n",
       "      <th>std_train_score</th>\n",
       "    </tr>\n",
       "  </thead>\n",
       "  <tbody>\n",
       "    <tr>\n",
       "      <th>6</th>\n",
       "      <td>2.532501</td>\n",
       "      <td>0.063337</td>\n",
       "      <td>-1247.794397</td>\n",
       "      <td>-1045.249140</td>\n",
       "      <td>0.987416</td>\n",
       "      <td>{'alpha': 0.98741563936}</td>\n",
       "      <td>1</td>\n",
       "      <td>-1373.654058</td>\n",
       "      <td>-1013.610441</td>\n",
       "      <td>-1078.444286</td>\n",
       "      <td>-1077.646272</td>\n",
       "      <td>-1291.284846</td>\n",
       "      <td>-1044.490708</td>\n",
       "      <td>0.691540</td>\n",
       "      <td>0.011442</td>\n",
       "      <td>124.380510</td>\n",
       "      <td>26.148019</td>\n",
       "    </tr>\n",
       "    <tr>\n",
       "      <th>2</th>\n",
       "      <td>2.914692</td>\n",
       "      <td>0.088000</td>\n",
       "      <td>-1248.886785</td>\n",
       "      <td>-1040.353960</td>\n",
       "      <td>0.462957</td>\n",
       "      <td>{'alpha': 0.462956692086}</td>\n",
       "      <td>2</td>\n",
       "      <td>-1375.604593</td>\n",
       "      <td>-1005.306853</td>\n",
       "      <td>-1078.426512</td>\n",
       "      <td>-1073.796626</td>\n",
       "      <td>-1292.629248</td>\n",
       "      <td>-1041.958399</td>\n",
       "      <td>1.025188</td>\n",
       "      <td>0.026989</td>\n",
       "      <td>125.203183</td>\n",
       "      <td>27.983840</td>\n",
       "    </tr>\n",
       "    <tr>\n",
       "      <th>4</th>\n",
       "      <td>2.924354</td>\n",
       "      <td>0.060668</td>\n",
       "      <td>-1249.441871</td>\n",
       "      <td>-1039.262038</td>\n",
       "      <td>0.364886</td>\n",
       "      <td>{'alpha': 0.364886054238}</td>\n",
       "      <td>3</td>\n",
       "      <td>-1376.675366</td>\n",
       "      <td>-1003.496922</td>\n",
       "      <td>-1078.570977</td>\n",
       "      <td>-1072.883868</td>\n",
       "      <td>-1293.079270</td>\n",
       "      <td>-1041.405324</td>\n",
       "      <td>1.307769</td>\n",
       "      <td>0.008965</td>\n",
       "      <td>125.551380</td>\n",
       "      <td>28.367614</td>\n",
       "    </tr>\n",
       "    <tr>\n",
       "      <th>10</th>\n",
       "      <td>2.309346</td>\n",
       "      <td>0.057003</td>\n",
       "      <td>-1249.499545</td>\n",
       "      <td>-1052.469466</td>\n",
       "      <td>1.89</td>\n",
       "      <td>{'alpha': 1.88999572467}</td>\n",
       "      <td>4</td>\n",
       "      <td>-1378.418572</td>\n",
       "      <td>-1026.429150</td>\n",
       "      <td>-1079.211814</td>\n",
       "      <td>-1082.923544</td>\n",
       "      <td>-1290.868249</td>\n",
       "      <td>-1048.055705</td>\n",
       "      <td>0.856980</td>\n",
       "      <td>0.005713</td>\n",
       "      <td>125.604401</td>\n",
       "      <td>23.273950</td>\n",
       "    </tr>\n",
       "    <tr>\n",
       "      <th>14</th>\n",
       "      <td>2.660342</td>\n",
       "      <td>0.061006</td>\n",
       "      <td>-1250.214433</td>\n",
       "      <td>-1054.007193</td>\n",
       "      <td>2.08999</td>\n",
       "      <td>{'alpha': 2.08998569757}</td>\n",
       "      <td>5</td>\n",
       "      <td>-1380.238246</td>\n",
       "      <td>-1029.198233</td>\n",
       "      <td>-1079.465636</td>\n",
       "      <td>-1084.034546</td>\n",
       "      <td>-1290.939416</td>\n",
       "      <td>-1048.788801</td>\n",
       "      <td>1.061859</td>\n",
       "      <td>0.013140</td>\n",
       "      <td>126.121460</td>\n",
       "      <td>22.688896</td>\n",
       "    </tr>\n",
       "  </tbody>\n",
       "</table>\n",
       "</div>"
      ],
      "text/plain": [
       "    mean_fit_time       ...         std_train_score\n",
       "6        2.532501       ...               26.148019\n",
       "2        2.914692       ...               27.983840\n",
       "4        2.924354       ...               28.367614\n",
       "10       2.309346       ...               23.273950\n",
       "14       2.660342       ...               22.688896\n",
       "\n",
       "[5 rows x 17 columns]"
      ]
     },
     "execution_count": 8,
     "metadata": {},
     "output_type": "execute_result"
    }
   ],
   "source": [
    "cv_results = pd.DataFrame(regr_pipe.named_steps['regr_cv'].cv_results_)\n",
    "cv_results.sort_values(by='rank_test_score').head()"
   ]
  },
  {
   "cell_type": "code",
   "execution_count": 9,
   "metadata": {},
   "outputs": [
    {
     "data": {
      "image/png": "[encoded data removed]",
      "text/plain": [
       "<matplotlib.figure.Figure at 0x18969810080>"
      ]
     },
     "metadata": {},
     "output_type": "display_data"
    }
   ],
   "source": [
    "plt.plot(cv_results['param_alpha'], cv_results['mean_test_score'], 'ro', markersize=1)\n",
    "plt.title('CV negative mean squared error')\n",
    "plt.show()"
   ]
  },
  {
   "cell_type": "code",
   "execution_count": null,
   "metadata": {},
   "outputs": [],
   "source": []
  },
  {
   "cell_type": "code",
   "execution_count": null,
   "metadata": {},
   "outputs": [],
   "source": []
  }
 ],
 "metadata": {
  "kernelspec": {
   "display_name": "EnergyDemandForecast local",
   "language": "python",
   "name": "energydemandforecast_local"
  },
  "language_info": {
   "codemirror_mode": {
    "name": "ipython",
    "version": 3
   },
   "file_extension": ".py",
   "mimetype": "text/x-python",
   "name": "python",
   "nbconvert_exporter": "python",
   "pygments_lexer": "ipython3",
   "version": "3.5.2"
  }
 },
 "nbformat": 4,
 "nbformat_minor": 2
}
