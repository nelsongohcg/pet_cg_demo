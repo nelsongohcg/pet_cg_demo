{
 "cells": [
  {
   "cell_type": "markdown",
   "metadata": {},
   "source": [
    "# Ridge regression with polynomial features of degree 2\n",
    "**Important**: Change the kernel to *PROJECT_NAME local*. You can do this from the *Kernel* menu under *Change kernel*."
   ]
  },
  {
   "cell_type": "code",
   "execution_count": 1,
   "metadata": {},
   "outputs": [],
   "source": [
    "%matplotlib inline\n",
    "import pandas as pd\n",
    "import numpy as np\n",
    "import matplotlib\n",
    "matplotlib.use('Agg')\n",
    "import matplotlib.pyplot as plt\n",
    "from sklearn.pipeline import Pipeline\n",
    "from sklearn.preprocessing import OneHotEncoder\n",
    "from sklearn.linear_model import Ridge\n",
    "from sklearn.metrics import mean_squared_error\n",
    "from sklearn.model_selection import TimeSeriesSplit\n",
    "from sklearn.model_selection import RandomizedSearchCV\n",
    "from sklearn.preprocessing import PolynomialFeatures\n",
    "import pickle\n",
    "import os\n",
    "import scipy.stats as st"
   ]
  },
  {
   "cell_type": "code",
   "execution_count": 2,
   "metadata": {},
   "outputs": [
    {
     "data": {
      "text/plain": [
       "<azureml.logging.script_run_request.ScriptRunRequest at 0x7f235eb92fd0>"
      ]
     },
     "execution_count": 2,
     "metadata": {},
     "output_type": "execute_result"
    }
   ],
   "source": [
    "from azureml.logging import get_azureml_logger\n",
    "run_logger = get_azureml_logger()\n",
    "run_logger.log('amlrealworld.timeseries.ridge-poly','true')"
   ]
  },
  {
   "cell_type": "code",
   "execution_count": 3,
   "metadata": {},
   "outputs": [],
   "source": [
    "model_name = \"ridge_poly2\"\n",
    "aml_dir = os.environ['AZUREML_NATIVE_SHARE_DIRECTORY']\n",
    "train = pd.read_csv(os.path.join(aml_dir, 'nyc_demand_train.csv'), parse_dates=['timeStamp'])"
   ]
  },
  {
   "cell_type": "markdown",
   "metadata": {},
   "source": [
    "Create model pipeline:\n",
    "- one-hot encode categorical features.\n",
    "- create polynomial features of degree 2. This means that for each pair of features $(x_1, x_2)$, the output features are $(x_1, x_2, x_1^2, x_1x_2, x_2^2)$\n",
    "- randomized parameter search with cross validation to find optimal values for the alpha parameter\n",
    "\n",
    "Note - to limit the training time, the number of iterations for the randomized search has been set to 20. This should train in about 3 minutes. increasing the number of iterations will increase the likelihood of finding the optimum solution but also increase training times. "
   ]
  },
  {
   "cell_type": "code",
   "execution_count": 4,
   "metadata": {},
   "outputs": [],
   "source": [
    "X = train.drop(['demand', 'timeStamp'], axis=1)"
   ]
  },
  {
   "cell_type": "code",
   "execution_count": 5,
   "metadata": {},
   "outputs": [],
   "source": [
    "cat_cols = ['hour', 'month', 'dayofweek']\n",
    "cat_cols_idx = [X.columns.get_loc(c) for c in X.columns if c in cat_cols]\n",
    "onehot = OneHotEncoder(categorical_features=cat_cols_idx, sparse=False)\n",
    "regr = Ridge(fit_intercept=False)\n",
    "poly = PolynomialFeatures(2)\n",
    "tscv = TimeSeriesSplit(n_splits=3)"
   ]
  },
  {
   "cell_type": "code",
   "execution_count": 7,
   "metadata": {},
   "outputs": [
    {
     "name": "stdout",
     "output_type": "stream",
     "text": [
      "Fitting 3 folds for each of 20 candidates, totalling 60 fits\n",
      "[CV] alpha=4.90403025516 .............................................\n",
      "[CV] .............................. alpha=4.90403025516, total=   0.8s\n",
      "[CV] alpha=4.90403025516 .............................................\n"
     ]
    },
    {
     "name": "stderr",
     "output_type": "stream",
     "text": [
      "[Parallel(n_jobs=1)]: Done   1 out of   1 | elapsed:    0.9s remaining:    0.0s\n"
     ]
    },
    {
     "name": "stdout",
     "output_type": "stream",
     "text": [
      "[CV] .............................. alpha=4.90403025516, total=   1.4s\n",
      "[CV] alpha=4.90403025516 .............................................\n",
      "[CV] .............................. alpha=4.90403025516, total=   2.1s\n",
      "[CV] alpha=1.41255238507 .............................................\n",
      "[CV] .............................. alpha=1.41255238507, total=   0.8s\n",
      "[CV] alpha=1.41255238507 .............................................\n",
      "[CV] .............................. alpha=1.41255238507, total=   1.4s\n",
      "[CV] alpha=1.41255238507 .............................................\n",
      "[CV] .............................. alpha=1.41255238507, total=   2.1s\n",
      "[CV] alpha=3.76275618078 .............................................\n",
      "[CV] .............................. alpha=3.76275618078, total=   0.8s\n",
      "[CV] alpha=3.76275618078 .............................................\n",
      "[CV] .............................. alpha=3.76275618078, total=   1.4s\n",
      "[CV] alpha=3.76275618078 .............................................\n",
      "[CV] .............................. alpha=3.76275618078, total=   2.1s\n",
      "[CV] alpha=2.54403191676 .............................................\n",
      "[CV] .............................. alpha=2.54403191676, total=   0.8s\n",
      "[CV] alpha=2.54403191676 .............................................\n",
      "[CV] .............................. alpha=2.54403191676, total=   1.6s\n",
      "[CV] alpha=2.54403191676 .............................................\n",
      "[CV] .............................. alpha=2.54403191676, total=   2.1s\n",
      "[CV] alpha=0.803024610676 ............................................\n",
      "[CV] ............................. alpha=0.803024610676, total=   0.8s\n",
      "[CV] alpha=0.803024610676 ............................................\n",
      "[CV] ............................. alpha=0.803024610676, total=   1.5s\n",
      "[CV] alpha=0.803024610676 ............................................\n",
      "[CV] ............................. alpha=0.803024610676, total=   2.1s\n",
      "[CV] alpha=4.48631240028 .............................................\n",
      "[CV] .............................. alpha=4.48631240028, total=   1.1s\n",
      "[CV] alpha=4.48631240028 .............................................\n",
      "[CV] .............................. alpha=4.48631240028, total=   1.5s\n",
      "[CV] alpha=4.48631240028 .............................................\n",
      "[CV] .............................. alpha=4.48631240028, total=   2.3s\n",
      "[CV] alpha=3.91877045444 .............................................\n",
      "[CV] .............................. alpha=3.91877045444, total=   1.1s\n",
      "[CV] alpha=3.91877045444 .............................................\n",
      "[CV] .............................. alpha=3.91877045444, total=   1.4s\n",
      "[CV] alpha=3.91877045444 .............................................\n",
      "[CV] .............................. alpha=3.91877045444, total=   2.1s\n",
      "[CV] alpha=4.34519354491 .............................................\n",
      "[CV] .............................. alpha=4.34519354491, total=   0.8s\n",
      "[CV] alpha=4.34519354491 .............................................\n",
      "[CV] .............................. alpha=4.34519354491, total=   1.4s\n",
      "[CV] alpha=4.34519354491 .............................................\n",
      "[CV] .............................. alpha=4.34519354491, total=   2.0s\n",
      "[CV] alpha=2.67828503847 .............................................\n",
      "[CV] .............................. alpha=2.67828503847, total=   0.8s\n",
      "[CV] alpha=2.67828503847 .............................................\n",
      "[CV] .............................. alpha=2.67828503847, total=   1.6s\n",
      "[CV] alpha=2.67828503847 .............................................\n",
      "[CV] .............................. alpha=2.67828503847, total=   2.1s\n",
      "[CV] alpha=1.23704128253 .............................................\n",
      "[CV] .............................. alpha=1.23704128253, total=   0.8s\n",
      "[CV] alpha=1.23704128253 .............................................\n",
      "[CV] .............................. alpha=1.23704128253, total=   1.4s\n",
      "[CV] alpha=1.23704128253 .............................................\n",
      "[CV] .............................. alpha=1.23704128253, total=   2.1s\n",
      "[CV] alpha=4.59836060798 .............................................\n",
      "[CV] .............................. alpha=4.59836060798, total=   0.8s\n",
      "[CV] alpha=4.59836060798 .............................................\n",
      "[CV] .............................. alpha=4.59836060798, total=   1.5s\n",
      "[CV] alpha=4.59836060798 .............................................\n",
      "[CV] .............................. alpha=4.59836060798, total=   2.1s\n",
      "[CV] alpha=0.879542881096 ............................................\n",
      "[CV] ............................. alpha=0.879542881096, total=   0.8s\n",
      "[CV] alpha=0.879542881096 ............................................\n",
      "[CV] ............................. alpha=0.879542881096, total=   1.7s\n",
      "[CV] alpha=0.879542881096 ............................................\n",
      "[CV] ............................. alpha=0.879542881096, total=   2.5s\n",
      "[CV] alpha=4.56622688794 .............................................\n",
      "[CV] .............................. alpha=4.56622688794, total=   0.8s\n",
      "[CV] alpha=4.56622688794 .............................................\n",
      "[CV] .............................. alpha=4.56622688794, total=   1.5s\n",
      "[CV] alpha=4.56622688794 .............................................\n",
      "[CV] .............................. alpha=4.56622688794, total=   2.5s\n",
      "[CV] alpha=2.47959512911 .............................................\n",
      "[CV] .............................. alpha=2.47959512911, total=   0.9s\n",
      "[CV] alpha=2.47959512911 .............................................\n",
      "[CV] .............................. alpha=2.47959512911, total=   1.4s\n",
      "[CV] alpha=2.47959512911 .............................................\n",
      "[CV] .............................. alpha=2.47959512911, total=   2.1s\n",
      "[CV] alpha=1.71584870664 .............................................\n",
      "[CV] .............................. alpha=1.71584870664, total=   1.0s\n",
      "[CV] alpha=1.71584870664 .............................................\n",
      "[CV] .............................. alpha=1.71584870664, total=   1.8s\n",
      "[CV] alpha=1.71584870664 .............................................\n",
      "[CV] .............................. alpha=1.71584870664, total=   2.4s\n",
      "[CV] alpha=3.68312884238 .............................................\n",
      "[CV] .............................. alpha=3.68312884238, total=   0.9s\n",
      "[CV] alpha=3.68312884238 .............................................\n",
      "[CV] .............................. alpha=3.68312884238, total=   1.5s\n",
      "[CV] alpha=3.68312884238 .............................................\n",
      "[CV] .............................. alpha=3.68312884238, total=   2.1s\n",
      "[CV] alpha=2.4194273395 ..............................................\n",
      "[CV] ............................... alpha=2.4194273395, total=   0.9s\n",
      "[CV] alpha=2.4194273395 ..............................................\n",
      "[CV] ............................... alpha=2.4194273395, total=   1.5s\n",
      "[CV] alpha=2.4194273395 ..............................................\n",
      "[CV] ............................... alpha=2.4194273395, total=   2.5s\n",
      "[CV] alpha=1.92343241217 .............................................\n",
      "[CV] .............................. alpha=1.92343241217, total=   1.1s\n",
      "[CV] alpha=1.92343241217 .............................................\n",
      "[CV] .............................. alpha=1.92343241217, total=   2.0s\n",
      "[CV] alpha=1.92343241217 .............................................\n",
      "[CV] .............................. alpha=1.92343241217, total=   2.2s\n",
      "[CV] alpha=0.0392462510614 ...........................................\n",
      "[CV] ............................ alpha=0.0392462510614, total=   0.9s\n",
      "[CV] alpha=0.0392462510614 ...........................................\n",
      "[CV] ............................ alpha=0.0392462510614, total=   1.5s\n",
      "[CV] alpha=0.0392462510614 ...........................................\n",
      "[CV] ............................ alpha=0.0392462510614, total=   2.2s\n",
      "[CV] alpha=1.74900498531 .............................................\n",
      "[CV] .............................. alpha=1.74900498531, total=   0.8s\n",
      "[CV] alpha=1.74900498531 .............................................\n",
      "[CV] .............................. alpha=1.74900498531, total=   1.9s\n",
      "[CV] alpha=1.74900498531 .............................................\n"
     ]
    },
    {
     "name": "stdout",
     "output_type": "stream",
     "text": [
      "[CV] .............................. alpha=1.74900498531, total=   2.2s\n"
     ]
    },
    {
     "name": "stderr",
     "output_type": "stream",
     "text": [
      "[Parallel(n_jobs=1)]: Done  60 out of  60 | elapsed:  1.6min finished\n"
     ]
    },
    {
     "data": {
      "text/plain": [
       "Pipeline(memory=None,\n",
       "     steps=[('onehot', OneHotEncoder(categorical_features=[2, 3, 4], dtype=<class 'numpy.float64'>,\n",
       "       handle_unknown='error', n_values='auto', sparse=False)), ('poly', PolynomialFeatures(degree=2, include_bias=True, interaction_only=False)), ('regr_cv', RandomizedSearchCV(cv=TimeSeriesSplit(max_trai...=True,\n",
       "          return_train_score='warn', scoring='neg_mean_squared_error',\n",
       "          verbose=2))])"
      ]
     },
     "execution_count": 7,
     "metadata": {},
     "output_type": "execute_result"
    }
   ],
   "source": [
    "param_dist = {'alpha': st.uniform(1e-4, 5.0)}\n",
    "regr_cv = RandomizedSearchCV(estimator=regr,\n",
    "                            param_distributions=param_dist,\n",
    "                            n_iter=20,\n",
    "                            scoring='neg_mean_squared_error',\n",
    "                            iid=False,\n",
    "                            cv=tscv,\n",
    "                            verbose=2,\n",
    "                            n_jobs=1)\n",
    "regr_pipe = Pipeline([('onehot', onehot), ('poly', poly), ('regr_cv', regr_cv)])\n",
    "regr_pipe.fit(X, y=train['demand'])"
   ]
  },
  {
   "cell_type": "code",
   "execution_count": 8,
   "metadata": {},
   "outputs": [],
   "source": [
    "with open(os.path.join(aml_dir, model_name + '.pkl'), 'wb') as f:\n",
    "    pickle.dump(regr_pipe, f)"
   ]
  },
  {
   "cell_type": "markdown",
   "metadata": {},
   "source": [
    "Cross validation results"
   ]
  },
  {
   "cell_type": "code",
   "execution_count": 9,
   "metadata": {},
   "outputs": [
    {
     "data": {
      "text/html": [
       "<div>\n",
       "<style scoped>\n",
       "    .dataframe tbody tr th:only-of-type {\n",
       "        vertical-align: middle;\n",
       "    }\n",
       "\n",
       "    .dataframe tbody tr th {\n",
       "        vertical-align: top;\n",
       "    }\n",
       "\n",
       "    .dataframe thead th {\n",
       "        text-align: right;\n",
       "    }\n",
       "</style>\n",
       "<table border=\"1\" class=\"dataframe\">\n",
       "  <thead>\n",
       "    <tr style=\"text-align: right;\">\n",
       "      <th></th>\n",
       "      <th>mean_fit_time</th>\n",
       "      <th>mean_score_time</th>\n",
       "      <th>mean_test_score</th>\n",
       "      <th>mean_train_score</th>\n",
       "      <th>param_alpha</th>\n",
       "      <th>params</th>\n",
       "      <th>rank_test_score</th>\n",
       "      <th>split0_test_score</th>\n",
       "      <th>split0_train_score</th>\n",
       "      <th>split1_test_score</th>\n",
       "      <th>split1_train_score</th>\n",
       "      <th>split2_test_score</th>\n",
       "      <th>split2_train_score</th>\n",
       "      <th>std_fit_time</th>\n",
       "      <th>std_score_time</th>\n",
       "      <th>std_test_score</th>\n",
       "      <th>std_train_score</th>\n",
       "    </tr>\n",
       "  </thead>\n",
       "  <tbody>\n",
       "    <tr>\n",
       "      <th>11</th>\n",
       "      <td>1.661420</td>\n",
       "      <td>0.015016</td>\n",
       "      <td>-1247.836161</td>\n",
       "      <td>-1044.319558</td>\n",
       "      <td>0.879543</td>\n",
       "      <td>{'alpha': 0.879542881096}</td>\n",
       "      <td>1</td>\n",
       "      <td>-1373.651814</td>\n",
       "      <td>-1012.003444</td>\n",
       "      <td>-1078.397714</td>\n",
       "      <td>-1076.942261</td>\n",
       "      <td>-1291.458956</td>\n",
       "      <td>-1044.012970</td>\n",
       "      <td>0.700400</td>\n",
       "      <td>0.000166</td>\n",
       "      <td>124.421212</td>\n",
       "      <td>26.512047</td>\n",
       "    </tr>\n",
       "    <tr>\n",
       "      <th>4</th>\n",
       "      <td>1.443228</td>\n",
       "      <td>0.018448</td>\n",
       "      <td>-1247.912906</td>\n",
       "      <td>-1043.642910</td>\n",
       "      <td>0.803025</td>\n",
       "      <td>{'alpha': 0.803024610676}</td>\n",
       "      <td>2</td>\n",
       "      <td>-1373.757923</td>\n",
       "      <td>-1010.842679</td>\n",
       "      <td>-1078.372787</td>\n",
       "      <td>-1076.423058</td>\n",
       "      <td>-1291.608008</td>\n",
       "      <td>-1043.662993</td>\n",
       "      <td>0.530786</td>\n",
       "      <td>0.002507</td>\n",
       "      <td>124.485718</td>\n",
       "      <td>26.773081</td>\n",
       "    </tr>\n",
       "    <tr>\n",
       "      <th>9</th>\n",
       "      <td>1.435197</td>\n",
       "      <td>0.014523</td>\n",
       "      <td>-1247.945671</td>\n",
       "      <td>-1047.321469</td>\n",
       "      <td>1.23704</td>\n",
       "      <td>{'alpha': 1.23704128253}</td>\n",
       "      <td>3</td>\n",
       "      <td>-1374.232920</td>\n",
       "      <td>-1017.238619</td>\n",
       "      <td>-1078.592770</td>\n",
       "      <td>-1079.185839</td>\n",
       "      <td>-1291.011324</td>\n",
       "      <td>-1045.539949</td>\n",
       "      <td>0.508223</td>\n",
       "      <td>0.000093</td>\n",
       "      <td>124.476938</td>\n",
       "      <td>25.321202</td>\n",
       "    </tr>\n",
       "    <tr>\n",
       "      <th>1</th>\n",
       "      <td>1.432041</td>\n",
       "      <td>0.014388</td>\n",
       "      <td>-1248.221380</td>\n",
       "      <td>-1048.733526</td>\n",
       "      <td>1.41255</td>\n",
       "      <td>{'alpha': 1.41255238507}</td>\n",
       "      <td>4</td>\n",
       "      <td>-1375.032865</td>\n",
       "      <td>-1019.740081</td>\n",
       "      <td>-1078.727171</td>\n",
       "      <td>-1080.218669</td>\n",
       "      <td>-1290.904102</td>\n",
       "      <td>-1046.241826</td>\n",
       "      <td>0.550469</td>\n",
       "      <td>0.000229</td>\n",
       "      <td>124.674582</td>\n",
       "      <td>24.753065</td>\n",
       "    </tr>\n",
       "    <tr>\n",
       "      <th>14</th>\n",
       "      <td>1.710671</td>\n",
       "      <td>0.021883</td>\n",
       "      <td>-1248.956071</td>\n",
       "      <td>-1051.119795</td>\n",
       "      <td>1.71585</td>\n",
       "      <td>{'alpha': 1.71584870664}</td>\n",
       "      <td>5</td>\n",
       "      <td>-1377.008919</td>\n",
       "      <td>-1024.004186</td>\n",
       "      <td>-1079.015052</td>\n",
       "      <td>-1081.948600</td>\n",
       "      <td>-1290.844242</td>\n",
       "      <td>-1047.406598</td>\n",
       "      <td>0.588769</td>\n",
       "      <td>0.007859</td>\n",
       "      <td>125.209292</td>\n",
       "      <td>23.800975</td>\n",
       "    </tr>\n",
       "  </tbody>\n",
       "</table>\n",
       "</div>"
      ],
      "text/plain": [
       "    mean_fit_time  mean_score_time  mean_test_score  mean_train_score  \\\n",
       "11       1.661420         0.015016     -1247.836161      -1044.319558   \n",
       "4        1.443228         0.018448     -1247.912906      -1043.642910   \n",
       "9        1.435197         0.014523     -1247.945671      -1047.321469   \n",
       "1        1.432041         0.014388     -1248.221380      -1048.733526   \n",
       "14       1.710671         0.021883     -1248.956071      -1051.119795   \n",
       "\n",
       "   param_alpha                     params  rank_test_score  split0_test_score  \\\n",
       "11    0.879543  {'alpha': 0.879542881096}                1       -1373.651814   \n",
       "4     0.803025  {'alpha': 0.803024610676}                2       -1373.757923   \n",
       "9      1.23704   {'alpha': 1.23704128253}                3       -1374.232920   \n",
       "1      1.41255   {'alpha': 1.41255238507}                4       -1375.032865   \n",
       "14     1.71585   {'alpha': 1.71584870664}                5       -1377.008919   \n",
       "\n",
       "    split0_train_score  split1_test_score  split1_train_score  \\\n",
       "11        -1012.003444       -1078.397714        -1076.942261   \n",
       "4         -1010.842679       -1078.372787        -1076.423058   \n",
       "9         -1017.238619       -1078.592770        -1079.185839   \n",
       "1         -1019.740081       -1078.727171        -1080.218669   \n",
       "14        -1024.004186       -1079.015052        -1081.948600   \n",
       "\n",
       "    split2_test_score  split2_train_score  std_fit_time  std_score_time  \\\n",
       "11       -1291.458956        -1044.012970      0.700400        0.000166   \n",
       "4        -1291.608008        -1043.662993      0.530786        0.002507   \n",
       "9        -1291.011324        -1045.539949      0.508223        0.000093   \n",
       "1        -1290.904102        -1046.241826      0.550469        0.000229   \n",
       "14       -1290.844242        -1047.406598      0.588769        0.007859   \n",
       "\n",
       "    std_test_score  std_train_score  \n",
       "11      124.421212        26.512047  \n",
       "4       124.485718        26.773081  \n",
       "9       124.476938        25.321202  \n",
       "1       124.674582        24.753065  \n",
       "14      125.209292        23.800975  "
      ]
     },
     "execution_count": 9,
     "metadata": {},
     "output_type": "execute_result"
    }
   ],
   "source": [
    "cv_results = pd.DataFrame(regr_pipe.named_steps['regr_cv'].cv_results_)\n",
    "cv_results.sort_values(by='rank_test_score').head()"
   ]
  },
  {
   "cell_type": "code",
   "execution_count": 10,
   "metadata": {},
   "outputs": [
    {
     "data": {
      "image/png": "[encoded data removed]",
      "text/plain": [
       "<matplotlib.figure.Figure at 0x7f235ea999b0>"
      ]
     },
     "metadata": {},
     "output_type": "display_data"
    }
   ],
   "source": [
    "plt.plot(cv_results['param_alpha'], cv_results['mean_test_score'], 'ro', markersize=1)\n",
    "plt.title('CV negative mean squared error')\n",
    "plt.show()"
   ]
  }
 ],
 "metadata": {
  "kernelspec": {
   "display_name": "TimeSeriesForecastingTutorial local",
   "language": "python",
   "name": "timeseriesforecastingtutorial_local"
  },
  "language_info": {
   "codemirror_mode": {
    "name": "ipython",
    "version": 3
   },
   "file_extension": ".py",
   "mimetype": "text/x-python",
   "name": "python",
   "nbconvert_exporter": "python",
   "pygments_lexer": "ipython3",
   "version": "3.5.2"
  }
 },
 "nbformat": 4,
 "nbformat_minor": 2
}
