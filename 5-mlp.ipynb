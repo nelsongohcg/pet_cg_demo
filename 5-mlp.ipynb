{
 "cells": [
  {
   "cell_type": "markdown",
   "metadata": {},
   "source": [
    "# Multi-layer perceptron\n",
    "**Important**: Change the kernel to *PROJECT_NAME local*. You can do this from the *Kernel* menu under *Change kernel*."
   ]
  },
  {
   "cell_type": "code",
   "execution_count": 1,
   "metadata": {},
   "outputs": [],
   "source": [
    "%matplotlib inline\n",
    "import pandas as pd\n",
    "import numpy as np\n",
    "import matplotlib\n",
    "matplotlib.use('Agg')\n",
    "import matplotlib.pyplot as plt\n",
    "from sklearn.pipeline import Pipeline\n",
    "from sklearn.preprocessing import OneHotEncoder\n",
    "from sklearn.neural_network import MLPRegressor\n",
    "from sklearn.metrics import mean_squared_error\n",
    "from sklearn.model_selection import PredefinedSplit\n",
    "from sklearn.model_selection import GridSearchCV\n",
    "import pickle\n",
    "import os"
   ]
  },
  {
   "cell_type": "code",
   "execution_count": 2,
   "metadata": {},
   "outputs": [
    {
     "data": {
      "text/plain": [
       "<azureml.logging.script_run_request.ScriptRunRequest at 0x7ff5a5fa8f28>"
      ]
     },
     "execution_count": 2,
     "metadata": {},
     "output_type": "execute_result"
    }
   ],
   "source": [
    "from azureml.logging import get_azureml_logger\n",
    "run_logger = get_azureml_logger()\n",
    "run_logger.log('amlrealworld.timeseries.mlp','true')"
   ]
  },
  {
   "cell_type": "code",
   "execution_count": 3,
   "metadata": {},
   "outputs": [],
   "source": [
    "model_name = \"mlp\"\n",
    "aml_dir = os.environ['AZUREML_NATIVE_SHARE_DIRECTORY']\n",
    "train = pd.read_csv(os.path.join(aml_dir, 'nyc_demand_train.csv'), parse_dates=['timeStamp'])\n",
    "X = train.drop(['demand', 'timeStamp'], axis=1)"
   ]
  },
  {
   "cell_type": "markdown",
   "metadata": {},
   "source": [
    "Due to the relatively long training times of neural networks, in this example we use one validation set in place of cross-validation. The validation set will be the final 25% of the training dataset. Training takes about 3 minutes."
   ]
  },
  {
   "cell_type": "code",
   "execution_count": 4,
   "metadata": {},
   "outputs": [],
   "source": [
    "len_train = int(len(X) * 0.75)\n",
    "len_valid = len(X) - len_train\n",
    "test_fold = [-1]*len_train + [0]*len_valid\n",
    "ps = PredefinedSplit(test_fold)"
   ]
  },
  {
   "cell_type": "code",
   "execution_count": 5,
   "metadata": {},
   "outputs": [],
   "source": [
    "regr = MLPRegressor(solver='lbfgs', verbose=True)"
   ]
  },
  {
   "cell_type": "markdown",
   "metadata": {},
   "source": [
    "We first specify a list of network structures to try. Each tuple in this list specifies the number of hidden layers and the number of units in each. For example, (5,0) specifies a network with one hidden layer containing 5 units while (10,10) creates a network with 2 hidden layers, each with 10 units. We then perform grid search to test the various network structures and regularization parameters. "
   ]
  },
  {
   "cell_type": "code",
   "execution_count": 6,
   "metadata": {},
   "outputs": [],
   "source": [
    "hidden_layer_size = [(5,), (10,), (15,), (20,), (25,), (30,), (35,), (40,), (10,10), (20,20), (30,30), (40,40)]"
   ]
  },
  {
   "cell_type": "code",
   "execution_count": 7,
   "metadata": {},
   "outputs": [],
   "source": [
    "param_grid = {'hidden_layer_sizes': hidden_layer_size,\n",
    "             'alpha': [0.01, 0.1, 1.0, 10.0]}\n",
    "regr_cv = GridSearchCV(estimator=regr,\n",
    "            param_grid=param_grid,\n",
    "            cv=ps,\n",
    "            scoring='neg_mean_squared_error',\n",
    "            verbose=2,\n",
    "            n_jobs=-1)"
   ]
  },
  {
   "cell_type": "code",
   "execution_count": 8,
   "metadata": {},
   "outputs": [
    {
     "name": "stdout",
     "output_type": "stream",
     "text": [
      "Fitting 1 folds for each of 48 candidates, totalling 48 fits\n",
      "[CV] alpha=0.01, hidden_layer_sizes=(5,) .............................\n",
      "[CV] alpha=0.01, hidden_layer_sizes=(10,) ............................\n",
      "[CV] .............. alpha=0.01, hidden_layer_sizes=(5,), total=   0.2s\n",
      "[CV] alpha=0.01, hidden_layer_sizes=(15,) ............................\n",
      "[CV] ............. alpha=0.01, hidden_layer_sizes=(10,), total=   3.0s\n",
      "[CV] alpha=0.01, hidden_layer_sizes=(20,) ............................\n",
      "[CV] ............. alpha=0.01, hidden_layer_sizes=(15,), total=   4.8s\n",
      "[CV] alpha=0.01, hidden_layer_sizes=(25,) ............................\n",
      "[CV] ............. alpha=0.01, hidden_layer_sizes=(20,), total=   8.6s\n",
      "[CV] alpha=0.01, hidden_layer_sizes=(30,) ............................\n",
      "[CV] ............. alpha=0.01, hidden_layer_sizes=(25,), total=   8.4s\n",
      "[CV] alpha=0.01, hidden_layer_sizes=(35,) ............................\n",
      "[CV] ............. alpha=0.01, hidden_layer_sizes=(30,), total=   7.2s\n",
      "[CV] alpha=0.01, hidden_layer_sizes=(40,) ............................\n",
      "[CV] ............. alpha=0.01, hidden_layer_sizes=(35,), total=   8.5s\n",
      "[CV] alpha=0.01, hidden_layer_sizes=(10, 10) .........................\n",
      "[CV] ............. alpha=0.01, hidden_layer_sizes=(40,), total=   8.5s\n",
      "[CV] alpha=0.01, hidden_layer_sizes=(20, 20) .........................\n",
      "[CV] .......... alpha=0.01, hidden_layer_sizes=(10, 10), total=   6.0s\n",
      "[CV] alpha=0.01, hidden_layer_sizes=(30, 30) .........................\n",
      "[CV] .......... alpha=0.01, hidden_layer_sizes=(20, 20), total=  12.5s\n",
      "[CV] alpha=0.01, hidden_layer_sizes=(40, 40) .........................\n",
      "[CV] .......... alpha=0.01, hidden_layer_sizes=(30, 30), total=  19.8s\n",
      "[CV] alpha=0.1, hidden_layer_sizes=(5,) ..............................\n",
      "[CV] ............... alpha=0.1, hidden_layer_sizes=(5,), total=   2.5s\n",
      "[CV] alpha=0.1, hidden_layer_sizes=(10,) .............................\n",
      "[CV] .............. alpha=0.1, hidden_layer_sizes=(10,), total=   3.2s\n",
      "[CV] alpha=0.1, hidden_layer_sizes=(15,) .............................\n",
      "[CV] .............. alpha=0.1, hidden_layer_sizes=(15,), total=   4.2s\n",
      "[CV] alpha=0.1, hidden_layer_sizes=(20,) .............................\n",
      "[CV] .......... alpha=0.01, hidden_layer_sizes=(40, 40), total=  22.5s\n",
      "[CV] alpha=0.1, hidden_layer_sizes=(25,) .............................\n",
      "[CV] .............. alpha=0.1, hidden_layer_sizes=(20,), total=   5.3s\n",
      "[CV] alpha=0.1, hidden_layer_sizes=(30,) .............................\n",
      "[CV] .............. alpha=0.1, hidden_layer_sizes=(25,), total=   7.2s\n",
      "[CV] alpha=0.1, hidden_layer_sizes=(35,) .............................\n",
      "[CV] .............. alpha=0.1, hidden_layer_sizes=(30,), total=   8.6s\n",
      "[CV] alpha=0.1, hidden_layer_sizes=(40,) .............................\n",
      "[CV] .............. alpha=0.1, hidden_layer_sizes=(35,), total=   8.5s\n",
      "[CV] alpha=0.1, hidden_layer_sizes=(10, 10) ..........................\n",
      "[CV] .............. alpha=0.1, hidden_layer_sizes=(40,), total=   8.7s\n",
      "[CV] alpha=0.1, hidden_layer_sizes=(20, 20) ..........................\n",
      "[CV] ........... alpha=0.1, hidden_layer_sizes=(10, 10), total=   6.7s\n",
      "[CV] alpha=0.1, hidden_layer_sizes=(30, 30) ..........................\n",
      "[CV] ........... alpha=0.1, hidden_layer_sizes=(20, 20), total=  12.2s\n",
      "[CV] alpha=0.1, hidden_layer_sizes=(40, 40) ..........................\n",
      "[CV] ........... alpha=0.1, hidden_layer_sizes=(30, 30), total=  15.8s\n",
      "[CV] alpha=1.0, hidden_layer_sizes=(5,) ..............................\n",
      "[CV] ............... alpha=1.0, hidden_layer_sizes=(5,), total=   2.2s\n",
      "[CV] alpha=1.0, hidden_layer_sizes=(10,) .............................\n",
      "[CV] .............. alpha=1.0, hidden_layer_sizes=(10,), total=   3.6s\n",
      "[CV] alpha=1.0, hidden_layer_sizes=(15,) .............................\n",
      "[CV] .............. alpha=1.0, hidden_layer_sizes=(15,), total=   3.9s\n",
      "[CV] alpha=1.0, hidden_layer_sizes=(20,) .............................\n",
      "[CV] ........... alpha=0.1, hidden_layer_sizes=(40, 40), total=  19.8s\n",
      "[CV] alpha=1.0, hidden_layer_sizes=(25,) .............................\n",
      "[CV] .............. alpha=1.0, hidden_layer_sizes=(20,), total=   4.9s\n",
      "[CV] alpha=1.0, hidden_layer_sizes=(30,) .............................\n",
      "[CV] .............. alpha=1.0, hidden_layer_sizes=(25,), total=   5.9s\n",
      "[CV] alpha=1.0, hidden_layer_sizes=(35,) .............................\n",
      "[CV] .............. alpha=1.0, hidden_layer_sizes=(30,), total=   8.0s\n",
      "[CV] alpha=1.0, hidden_layer_sizes=(40,) .............................\n",
      "[CV] .............. alpha=1.0, hidden_layer_sizes=(35,), total=   9.8s\n",
      "[CV] alpha=1.0, hidden_layer_sizes=(10, 10) ..........................\n",
      "[CV] .............. alpha=1.0, hidden_layer_sizes=(40,), total=  10.6s\n",
      "[CV] alpha=1.0, hidden_layer_sizes=(20, 20) ..........................\n",
      "[CV] ........... alpha=1.0, hidden_layer_sizes=(10, 10), total=   6.8s\n",
      "[CV] alpha=1.0, hidden_layer_sizes=(30, 30) ..........................\n",
      "[CV] ........... alpha=1.0, hidden_layer_sizes=(20, 20), total=   9.9s\n",
      "[CV] alpha=1.0, hidden_layer_sizes=(40, 40) ..........................\n",
      "[CV] ........... alpha=1.0, hidden_layer_sizes=(30, 30), total=  16.4s\n",
      "[CV] alpha=10.0, hidden_layer_sizes=(5,) .............................\n",
      "[CV] .............. alpha=10.0, hidden_layer_sizes=(5,), total=   3.3s\n",
      "[CV] alpha=10.0, hidden_layer_sizes=(10,) ............................\n",
      "[CV] ............. alpha=10.0, hidden_layer_sizes=(10,), total=   3.0s\n",
      "[CV] alpha=10.0, hidden_layer_sizes=(15,) ............................\n"
     ]
    },
    {
     "name": "stderr",
     "output_type": "stream",
     "text": [
      "[Parallel(n_jobs=-1)]: Done  37 tasks      | elapsed:  2.6min\n"
     ]
    },
    {
     "name": "stdout",
     "output_type": "stream",
     "text": [
      "[CV] ............. alpha=10.0, hidden_layer_sizes=(15,), total=   3.9s\n",
      "[CV] alpha=10.0, hidden_layer_sizes=(20,) ............................\n",
      "[CV] ........... alpha=1.0, hidden_layer_sizes=(40, 40), total=  20.9s\n",
      "[CV] alpha=10.0, hidden_layer_sizes=(25,) ............................\n",
      "[CV] ............. alpha=10.0, hidden_layer_sizes=(20,), total=   4.7s\n",
      "[CV] alpha=10.0, hidden_layer_sizes=(30,) ............................\n",
      "[CV] ............. alpha=10.0, hidden_layer_sizes=(25,), total=   6.0s\n",
      "[CV] alpha=10.0, hidden_layer_sizes=(35,) ............................\n",
      "[CV] ............. alpha=10.0, hidden_layer_sizes=(30,), total=   7.6s\n",
      "[CV] alpha=10.0, hidden_layer_sizes=(40,) ............................\n",
      "[CV] ............. alpha=10.0, hidden_layer_sizes=(35,), total=   8.5s\n",
      "[CV] alpha=10.0, hidden_layer_sizes=(10, 10) .........................\n",
      "[CV] ............. alpha=10.0, hidden_layer_sizes=(40,), total=   8.5s\n",
      "[CV] alpha=10.0, hidden_layer_sizes=(20, 20) .........................\n",
      "[CV] .......... alpha=10.0, hidden_layer_sizes=(10, 10), total=   5.8s\n",
      "[CV] alpha=10.0, hidden_layer_sizes=(30, 30) .........................\n",
      "[CV] .......... alpha=10.0, hidden_layer_sizes=(20, 20), total=  10.0s\n",
      "[CV] alpha=10.0, hidden_layer_sizes=(40, 40) .........................\n",
      "[CV] .......... alpha=10.0, hidden_layer_sizes=(30, 30), total=  14.6s\n",
      "[CV] .......... alpha=10.0, hidden_layer_sizes=(40, 40), total=  12.5s\n"
     ]
    },
    {
     "name": "stderr",
     "output_type": "stream",
     "text": [
      "[Parallel(n_jobs=-1)]: Done  48 out of  48 | elapsed:  3.4min finished\n"
     ]
    },
    {
     "data": {
      "text/plain": [
       "Pipeline(memory=None,\n",
       "     steps=[('regr_cv', GridSearchCV(cv=PredefinedSplit(test_fold=array([-1, -1, ...,  0,  0])),\n",
       "       error_score='raise',\n",
       "       estimator=MLPRegressor(activation='relu', alpha=0.0001, batch_size='auto', beta_1=0.9,\n",
       "       beta_2=0.999, early_stopping=False, epsilon=1e-08,\n",
       "       hidden_layer_sizes=(1..._jobs', refit=True, return_train_score='warn',\n",
       "       scoring='neg_mean_squared_error', verbose=2))])"
      ]
     },
     "execution_count": 8,
     "metadata": {},
     "output_type": "execute_result"
    }
   ],
   "source": [
    "regr_pipe = Pipeline([('regr_cv', regr_cv)])\n",
    "regr_pipe.fit(X, y=train['demand'])"
   ]
  },
  {
   "cell_type": "code",
   "execution_count": 9,
   "metadata": {},
   "outputs": [],
   "source": [
    "with open(os.path.join(aml_dir, model_name + '.pkl'), 'wb') as f:\n",
    "    pickle.dump(regr_pipe, f)"
   ]
  },
  {
   "cell_type": "markdown",
   "metadata": {},
   "source": [
    "Cross validation results"
   ]
  },
  {
   "cell_type": "code",
   "execution_count": 10,
   "metadata": {},
   "outputs": [
    {
     "data": {
      "text/html": [
       "<div>\n",
       "<style scoped>\n",
       "    .dataframe tbody tr th:only-of-type {\n",
       "        vertical-align: middle;\n",
       "    }\n",
       "\n",
       "    .dataframe tbody tr th {\n",
       "        vertical-align: top;\n",
       "    }\n",
       "\n",
       "    .dataframe thead th {\n",
       "        text-align: right;\n",
       "    }\n",
       "</style>\n",
       "<table border=\"1\" class=\"dataframe\">\n",
       "  <thead>\n",
       "    <tr style=\"text-align: right;\">\n",
       "      <th></th>\n",
       "      <th>mean_fit_time</th>\n",
       "      <th>mean_score_time</th>\n",
       "      <th>mean_test_score</th>\n",
       "      <th>mean_train_score</th>\n",
       "      <th>param_alpha</th>\n",
       "      <th>param_hidden_layer_sizes</th>\n",
       "      <th>params</th>\n",
       "      <th>rank_test_score</th>\n",
       "      <th>split0_test_score</th>\n",
       "      <th>split0_train_score</th>\n",
       "      <th>std_fit_time</th>\n",
       "      <th>std_score_time</th>\n",
       "      <th>std_test_score</th>\n",
       "      <th>std_train_score</th>\n",
       "    </tr>\n",
       "  </thead>\n",
       "  <tbody>\n",
       "    <tr>\n",
       "      <th>41</th>\n",
       "      <td>7.551556</td>\n",
       "      <td>0.011675</td>\n",
       "      <td>-6219.410426</td>\n",
       "      <td>-7470.614132</td>\n",
       "      <td>10</td>\n",
       "      <td>(30,)</td>\n",
       "      <td>{'alpha': 10.0, 'hidden_layer_sizes': (30,)}</td>\n",
       "      <td>1</td>\n",
       "      <td>-6219.410426</td>\n",
       "      <td>-7470.614132</td>\n",
       "      <td>0.0</td>\n",
       "      <td>0.0</td>\n",
       "      <td>0.0</td>\n",
       "      <td>0.0</td>\n",
       "    </tr>\n",
       "    <tr>\n",
       "      <th>44</th>\n",
       "      <td>5.796770</td>\n",
       "      <td>0.006628</td>\n",
       "      <td>-6392.601883</td>\n",
       "      <td>-7315.619267</td>\n",
       "      <td>10</td>\n",
       "      <td>(10, 10)</td>\n",
       "      <td>{'alpha': 10.0, 'hidden_layer_sizes': (10, 10)}</td>\n",
       "      <td>2</td>\n",
       "      <td>-6392.601883</td>\n",
       "      <td>-7315.619267</td>\n",
       "      <td>0.0</td>\n",
       "      <td>0.0</td>\n",
       "      <td>0.0</td>\n",
       "      <td>0.0</td>\n",
       "    </tr>\n",
       "    <tr>\n",
       "      <th>19</th>\n",
       "      <td>8.678896</td>\n",
       "      <td>0.014193</td>\n",
       "      <td>-6696.008485</td>\n",
       "      <td>-7790.304639</td>\n",
       "      <td>0.1</td>\n",
       "      <td>(40,)</td>\n",
       "      <td>{'alpha': 0.1, 'hidden_layer_sizes': (40,)}</td>\n",
       "      <td>3</td>\n",
       "      <td>-6696.008485</td>\n",
       "      <td>-7790.304639</td>\n",
       "      <td>0.0</td>\n",
       "      <td>0.0</td>\n",
       "      <td>0.0</td>\n",
       "      <td>0.0</td>\n",
       "    </tr>\n",
       "    <tr>\n",
       "      <th>2</th>\n",
       "      <td>4.809886</td>\n",
       "      <td>0.006670</td>\n",
       "      <td>-6945.595519</td>\n",
       "      <td>-8050.220840</td>\n",
       "      <td>0.01</td>\n",
       "      <td>(15,)</td>\n",
       "      <td>{'alpha': 0.01, 'hidden_layer_sizes': (15,)}</td>\n",
       "      <td>4</td>\n",
       "      <td>-6945.595519</td>\n",
       "      <td>-8050.220840</td>\n",
       "      <td>0.0</td>\n",
       "      <td>0.0</td>\n",
       "      <td>0.0</td>\n",
       "      <td>0.0</td>\n",
       "    </tr>\n",
       "    <tr>\n",
       "      <th>18</th>\n",
       "      <td>8.441728</td>\n",
       "      <td>0.008543</td>\n",
       "      <td>-6998.609510</td>\n",
       "      <td>-8207.820822</td>\n",
       "      <td>0.1</td>\n",
       "      <td>(35,)</td>\n",
       "      <td>{'alpha': 0.1, 'hidden_layer_sizes': (35,)}</td>\n",
       "      <td>5</td>\n",
       "      <td>-6998.609510</td>\n",
       "      <td>-8207.820822</td>\n",
       "      <td>0.0</td>\n",
       "      <td>0.0</td>\n",
       "      <td>0.0</td>\n",
       "      <td>0.0</td>\n",
       "    </tr>\n",
       "  </tbody>\n",
       "</table>\n",
       "</div>"
      ],
      "text/plain": [
       "    mean_fit_time  mean_score_time  mean_test_score  mean_train_score  \\\n",
       "41       7.551556         0.011675     -6219.410426      -7470.614132   \n",
       "44       5.796770         0.006628     -6392.601883      -7315.619267   \n",
       "19       8.678896         0.014193     -6696.008485      -7790.304639   \n",
       "2        4.809886         0.006670     -6945.595519      -8050.220840   \n",
       "18       8.441728         0.008543     -6998.609510      -8207.820822   \n",
       "\n",
       "   param_alpha param_hidden_layer_sizes  \\\n",
       "41          10                    (30,)   \n",
       "44          10                 (10, 10)   \n",
       "19         0.1                    (40,)   \n",
       "2         0.01                    (15,)   \n",
       "18         0.1                    (35,)   \n",
       "\n",
       "                                             params  rank_test_score  \\\n",
       "41     {'alpha': 10.0, 'hidden_layer_sizes': (30,)}                1   \n",
       "44  {'alpha': 10.0, 'hidden_layer_sizes': (10, 10)}                2   \n",
       "19      {'alpha': 0.1, 'hidden_layer_sizes': (40,)}                3   \n",
       "2      {'alpha': 0.01, 'hidden_layer_sizes': (15,)}                4   \n",
       "18      {'alpha': 0.1, 'hidden_layer_sizes': (35,)}                5   \n",
       "\n",
       "    split0_test_score  split0_train_score  std_fit_time  std_score_time  \\\n",
       "41       -6219.410426        -7470.614132           0.0             0.0   \n",
       "44       -6392.601883        -7315.619267           0.0             0.0   \n",
       "19       -6696.008485        -7790.304639           0.0             0.0   \n",
       "2        -6945.595519        -8050.220840           0.0             0.0   \n",
       "18       -6998.609510        -8207.820822           0.0             0.0   \n",
       "\n",
       "    std_test_score  std_train_score  \n",
       "41             0.0              0.0  \n",
       "44             0.0              0.0  \n",
       "19             0.0              0.0  \n",
       "2              0.0              0.0  \n",
       "18             0.0              0.0  "
      ]
     },
     "execution_count": 10,
     "metadata": {},
     "output_type": "execute_result"
    }
   ],
   "source": [
    "cv_results = pd.DataFrame(regr_pipe.named_steps['regr_cv'].cv_results_)\n",
    "cv_results.sort_values(by='rank_test_score', inplace=True)\n",
    "cv_results.head()"
   ]
  }
 ],
 "metadata": {
  "kernelspec": {
   "display_name": "TimeSeriesForecastingTutorial local",
   "language": "python",
   "name": "timeseriesforecastingtutorial_local"
  },
  "language_info": {
   "codemirror_mode": {
    "name": "ipython",
    "version": 3
   },
   "file_extension": ".py",
   "mimetype": "text/x-python",
   "name": "python",
   "nbconvert_exporter": "python",
   "pygments_lexer": "ipython3",
   "version": "3.5.2"
  }
 },
 "nbformat": 4,
 "nbformat_minor": 2
}
