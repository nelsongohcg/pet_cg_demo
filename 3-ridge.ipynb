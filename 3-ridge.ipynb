{
 "cells": [
  {
   "cell_type": "markdown",
   "metadata": {},
   "source": [
    "# Ridge regression\n",
    "**Important**: Change the kernel to *PROJECT_NAME local*. You can do this from the *Kernel* menu under *Change kernel*."
   ]
  },
  {
   "cell_type": "code",
   "execution_count": 1,
   "metadata": {},
   "outputs": [],
   "source": [
    "%matplotlib inline\n",
    "import pandas as pd\n",
    "import numpy as np\n",
    "import matplotlib\n",
    "matplotlib.use('Agg')\n",
    "import matplotlib.pyplot as plt\n",
    "from sklearn.pipeline import Pipeline\n",
    "from sklearn.preprocessing import OneHotEncoder\n",
    "from sklearn.linear_model import Ridge\n",
    "from sklearn.metrics import mean_squared_error\n",
    "from sklearn.model_selection import TimeSeriesSplit\n",
    "from sklearn.model_selection import RandomizedSearchCV\n",
    "import pickle\n",
    "import os\n",
    "import scipy.stats as st\n",
    "from azure.storage.blob import BlockBlobService"
   ]
  },
  {
   "cell_type": "code",
   "execution_count": 2,
   "metadata": {},
   "outputs": [
    {
     "data": {
      "text/plain": [
       "<azureml.logging.script_run_request.ScriptRunRequest at 0x2455f8c5588>"
      ]
     },
     "execution_count": 2,
     "metadata": {},
     "output_type": "execute_result"
    }
   ],
   "source": [
    "from azureml.logging import get_azureml_logger\n",
    "run_logger = get_azureml_logger()\n",
    "run_logger.log('amlrealworld.timeseries.ridge','true')"
   ]
  },
  {
   "cell_type": "code",
   "execution_count": 3,
   "metadata": {},
   "outputs": [],
   "source": [
    "model_name = \"ridge\"\n",
    "aml_dir = os.environ['AZUREML_NATIVE_SHARE_DIRECTORY']\n",
    "ACCOUNT_NAME = \"petcgexperimentstorage\"\n",
    "ACCOUNT_KEY = \"C+ffy45PBcicHAxWiRbW9MnFR651A8xbiVe2wkyZgolznhFf70caTZmpWIJb2spV5YFl/LQB0ARUfU+AQx6w9g==\"\n",
    "CONTAINER_NAME = \"energy-demand-demo\"\n",
    "block_blob_service = BlockBlobService(account_name=ACCOUNT_NAME, account_key=ACCOUNT_KEY)\n",
    "train = None\n",
    "list_of_blobs = block_blob_service.list_blobs(CONTAINER_NAME)\n",
    "for each_blob in list_of_blobs:\n",
    "    if (\"part-00\" in each_blob.name):\n",
    "        block_blob_service.get_blob_to_path(CONTAINER_NAME, blob_name=each_blob.name, file_path='./nyc_demand.csv')\n",
    "        train = pd.read_csv('./nyc_demand.csv')\n",
    "        break"
   ]
  },
  {
   "cell_type": "markdown",
   "metadata": {},
   "source": [
    "Create model pipeline:\n",
    "- **one-hot encode categorical variables**\n",
    "- **randomized parameter search** with cross validation to find optimal values for the alpha parameter\n",
    "\n",
    "Fitting this pipeline should take less than a minute."
   ]
  },
  {
   "cell_type": "code",
   "execution_count": 4,
   "metadata": {},
   "outputs": [],
   "source": [
    "X = train.drop(['demand', 'timeStamp'], axis=1)"
   ]
  },
  {
   "cell_type": "code",
   "execution_count": 5,
   "metadata": {},
   "outputs": [],
   "source": [
    "cat_cols = ['hour', 'month', 'dayofweek']\n",
    "cat_cols_idx = [X.columns.get_loc(c) for c in X.columns if c in cat_cols]\n",
    "onehot = OneHotEncoder(categorical_features=cat_cols_idx, sparse=False)\n",
    "regr = Ridge(fit_intercept=False)\n",
    "tscv = TimeSeriesSplit(n_splits=3)"
   ]
  },
  {
   "cell_type": "code",
   "execution_count": 8,
   "metadata": {},
   "outputs": [
    {
     "name": "stdout",
     "output_type": "stream",
     "text": [
      "Fitting 3 folds for each of 100 candidates, totalling 300 fits\n"
     ]
    },
    {
     "name": "stderr",
     "output_type": "stream",
     "text": [
      "[Parallel(n_jobs=-1)]: Done  33 tasks      | elapsed:   11.2s\n",
      "[Parallel(n_jobs=-1)]: Done 154 tasks      | elapsed:   16.1s\n",
      "[Parallel(n_jobs=-1)]: Done 300 out of 300 | elapsed:   22.0s finished\n"
     ]
    },
    {
     "data": {
      "text/plain": [
       "Pipeline(steps=[('onehot', OneHotEncoder(categorical_features=[2, 3, 4], dtype=<class 'numpy.float64'>,\n",
       "       handle_unknown='error', n_values='auto', sparse=False)), ('regr_cv', RandomizedSearchCV(cv=TimeSeriesSplit(n_splits=3), error_score='raise',\n",
       "          estimator=Ridge(alpha=1.0, copy_X=True, fit_int...it=True,\n",
       "          return_train_score=True, scoring='neg_mean_squared_error',\n",
       "          verbose=2))])"
      ]
     },
     "execution_count": 8,
     "metadata": {},
     "output_type": "execute_result"
    }
   ],
   "source": [
    "param_dist = {'alpha': st.uniform(1e-4, 10.0)}\n",
    "regr_cv = RandomizedSearchCV(estimator=regr,\n",
    "                            param_distributions=param_dist,\n",
    "                            n_iter=100,\n",
    "                            scoring='neg_mean_squared_error',\n",
    "                            iid=False,\n",
    "                            cv=tscv,\n",
    "                            verbose=2,\n",
    "                            n_jobs=-1)\n",
    "regr_pipe = Pipeline([('onehot', onehot), ('regr_cv', regr_cv)])\n",
    "regr_pipe.fit(X, y=train['demand'])"
   ]
  },
  {
   "cell_type": "code",
   "execution_count": 9,
   "metadata": {},
   "outputs": [],
   "source": [
    "model_dir = \"C:/Users/nelgoh/Desktop/Resources/Petronas/energy_demand_forecast/EnergyDemandForecast/outputs/models/\"\n",
    "with open(os.path.join(model_dir, model_name + '.pkl'), 'wb') as f:\n",
    "    pickle.dump(regr_pipe, f)"
   ]
  },
  {
   "cell_type": "markdown",
   "metadata": {},
   "source": [
    "Cross validation results"
   ]
  },
  {
   "cell_type": "code",
   "execution_count": 8,
   "metadata": {},
   "outputs": [
    {
     "data": {
      "text/html": [
       "<div>\n",
       "<style scoped>\n",
       "    .dataframe tbody tr th:only-of-type {\n",
       "        vertical-align: middle;\n",
       "    }\n",
       "\n",
       "    .dataframe tbody tr th {\n",
       "        vertical-align: top;\n",
       "    }\n",
       "\n",
       "    .dataframe thead th {\n",
       "        text-align: right;\n",
       "    }\n",
       "</style>\n",
       "<table border=\"1\" class=\"dataframe\">\n",
       "  <thead>\n",
       "    <tr style=\"text-align: right;\">\n",
       "      <th></th>\n",
       "      <th>mean_fit_time</th>\n",
       "      <th>mean_score_time</th>\n",
       "      <th>mean_test_score</th>\n",
       "      <th>mean_train_score</th>\n",
       "      <th>param_alpha</th>\n",
       "      <th>params</th>\n",
       "      <th>rank_test_score</th>\n",
       "      <th>split0_test_score</th>\n",
       "      <th>split0_train_score</th>\n",
       "      <th>split1_test_score</th>\n",
       "      <th>split1_train_score</th>\n",
       "      <th>split2_test_score</th>\n",
       "      <th>split2_train_score</th>\n",
       "      <th>std_fit_time</th>\n",
       "      <th>std_score_time</th>\n",
       "      <th>std_test_score</th>\n",
       "      <th>std_train_score</th>\n",
       "    </tr>\n",
       "  </thead>\n",
       "  <tbody>\n",
       "    <tr>\n",
       "      <th>53</th>\n",
       "      <td>0.161684</td>\n",
       "      <td>0.008320</td>\n",
       "      <td>-3878.856377</td>\n",
       "      <td>-4220.634324</td>\n",
       "      <td>6.25828</td>\n",
       "      <td>{'alpha': 6.2582768398}</td>\n",
       "      <td>1</td>\n",
       "      <td>-4167.555577</td>\n",
       "      <td>-4383.378473</td>\n",
       "      <td>-3679.067260</td>\n",
       "      <td>-4237.609211</td>\n",
       "      <td>-3789.946293</td>\n",
       "      <td>-4040.915289</td>\n",
       "      <td>0.033796</td>\n",
       "      <td>0.002497</td>\n",
       "      <td>209.099595</td>\n",
       "      <td>140.324310</td>\n",
       "    </tr>\n",
       "    <tr>\n",
       "      <th>88</th>\n",
       "      <td>0.173995</td>\n",
       "      <td>0.010000</td>\n",
       "      <td>-3878.862265</td>\n",
       "      <td>-4221.069535</td>\n",
       "      <td>6.57229</td>\n",
       "      <td>{'alpha': 6.57229209519}</td>\n",
       "      <td>2</td>\n",
       "      <td>-4168.054855</td>\n",
       "      <td>-4384.281248</td>\n",
       "      <td>-3678.881404</td>\n",
       "      <td>-4237.880354</td>\n",
       "      <td>-3789.650536</td>\n",
       "      <td>-4041.047003</td>\n",
       "      <td>0.029640</td>\n",
       "      <td>0.004547</td>\n",
       "      <td>209.430523</td>\n",
       "      <td>140.628090</td>\n",
       "    </tr>\n",
       "    <tr>\n",
       "      <th>38</th>\n",
       "      <td>0.174331</td>\n",
       "      <td>0.010678</td>\n",
       "      <td>-3878.862703</td>\n",
       "      <td>-4220.329083</td>\n",
       "      <td>6.03259</td>\n",
       "      <td>{'alpha': 6.03258550443}</td>\n",
       "      <td>3</td>\n",
       "      <td>-4167.216235</td>\n",
       "      <td>-4382.743722</td>\n",
       "      <td>-3679.207911</td>\n",
       "      <td>-4237.419917</td>\n",
       "      <td>-3790.163964</td>\n",
       "      <td>-4040.823612</td>\n",
       "      <td>0.007407</td>\n",
       "      <td>0.002614</td>\n",
       "      <td>208.867790</td>\n",
       "      <td>140.110463</td>\n",
       "    </tr>\n",
       "    <tr>\n",
       "      <th>5</th>\n",
       "      <td>0.164329</td>\n",
       "      <td>0.013667</td>\n",
       "      <td>-3878.863535</td>\n",
       "      <td>-4220.306645</td>\n",
       "      <td>6.0158</td>\n",
       "      <td>{'alpha': 6.0158039063}</td>\n",
       "      <td>4</td>\n",
       "      <td>-4167.191673</td>\n",
       "      <td>-4382.697007</td>\n",
       "      <td>-3679.218610</td>\n",
       "      <td>-4237.406031</td>\n",
       "      <td>-3790.180323</td>\n",
       "      <td>-4040.816896</td>\n",
       "      <td>0.048651</td>\n",
       "      <td>0.001885</td>\n",
       "      <td>208.850763</td>\n",
       "      <td>140.094716</td>\n",
       "    </tr>\n",
       "    <tr>\n",
       "      <th>74</th>\n",
       "      <td>0.184668</td>\n",
       "      <td>0.007669</td>\n",
       "      <td>-3878.864215</td>\n",
       "      <td>-4220.289251</td>\n",
       "      <td>6.00278</td>\n",
       "      <td>{'alpha': 6.00277677208}</td>\n",
       "      <td>5</td>\n",
       "      <td>-4167.172670</td>\n",
       "      <td>-4382.660789</td>\n",
       "      <td>-3679.226938</td>\n",
       "      <td>-4237.395271</td>\n",
       "      <td>-3790.193038</td>\n",
       "      <td>-4040.811692</td>\n",
       "      <td>0.040929</td>\n",
       "      <td>0.001695</td>\n",
       "      <td>208.837565</td>\n",
       "      <td>140.082507</td>\n",
       "    </tr>\n",
       "  </tbody>\n",
       "</table>\n",
       "</div>"
      ],
      "text/plain": [
       "    mean_fit_time       ...         std_train_score\n",
       "53       0.161684       ...              140.324310\n",
       "88       0.173995       ...              140.628090\n",
       "38       0.174331       ...              140.110463\n",
       "5        0.164329       ...              140.094716\n",
       "74       0.184668       ...              140.082507\n",
       "\n",
       "[5 rows x 17 columns]"
      ]
     },
     "execution_count": 8,
     "metadata": {},
     "output_type": "execute_result"
    }
   ],
   "source": [
    "cv_results = pd.DataFrame(regr_pipe.named_steps['regr_cv'].cv_results_)\n",
    "cv_results.sort_values(by='rank_test_score').head()"
   ]
  },
  {
   "cell_type": "code",
   "execution_count": 9,
   "metadata": {},
   "outputs": [
    {
     "data": {
      "image/png": "[encoded data removed]",
      "text/plain": [
       "<matplotlib.figure.Figure at 0x1a323bf3a58>"
      ]
     },
     "metadata": {},
     "output_type": "display_data"
    }
   ],
   "source": [
    "plt.plot(cv_results['param_alpha'], cv_results['mean_test_score'], 'ro', markersize=1)\n",
    "plt.title('CV negative mean squared error')\n",
    "plt.show()"
   ]
  },
  {
   "cell_type": "code",
   "execution_count": null,
   "metadata": {},
   "outputs": [],
   "source": []
  },
  {
   "cell_type": "code",
   "execution_count": null,
   "metadata": {},
   "outputs": [],
   "source": []
  },
  {
   "cell_type": "code",
   "execution_count": null,
   "metadata": {},
   "outputs": [],
   "source": []
  },
  {
   "cell_type": "code",
   "execution_count": null,
   "metadata": {},
   "outputs": [],
   "source": []
  },
  {
   "cell_type": "code",
   "execution_count": null,
   "metadata": {},
   "outputs": [],
   "source": []
  }
 ],
 "metadata": {
  "kernelspec": {
   "display_name": "EnergyDemandForecast local",
   "language": "python",
   "name": "energydemandforecast_local"
  },
  "language_info": {
   "codemirror_mode": {
    "name": "ipython",
    "version": 3
   },
   "file_extension": ".py",
   "mimetype": "text/x-python",
   "name": "python",
   "nbconvert_exporter": "python",
   "pygments_lexer": "ipython3",
   "version": "3.5.2"
  }
 },
 "nbformat": 4,
 "nbformat_minor": 2
}
